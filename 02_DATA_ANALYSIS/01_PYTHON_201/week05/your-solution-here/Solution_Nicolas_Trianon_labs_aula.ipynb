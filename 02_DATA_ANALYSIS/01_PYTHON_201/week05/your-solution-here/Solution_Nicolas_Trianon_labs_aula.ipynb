{
 "cells": [
  {
   "cell_type": "markdown",
   "metadata": {},
   "source": [
    "* 1. Calculad la suma de los primeros 100 números pares."
   ]
  },
  {
   "cell_type": "code",
   "execution_count": 9,
   "metadata": {},
   "outputs": [
    {
     "name": "stdout",
     "output_type": "stream",
     "text": [
      "2550\n"
     ]
    }
   ],
   "source": [
    "# Opción 1: creando un bucle for con un if dentro, por lo que solo sumamos\n",
    "# los valores pares (i % 2 == 0)\n",
    "suma = 0\n",
    "# TODO\n",
    "suma_list = []\n",
    "for i in range(0,101):\n",
    "    if i % 2 == 0:\n",
    "        suma_list.append(i)\n",
    "suma = sum(suma_list)\n",
    "print(suma)"
   ]
  },
  {
   "cell_type": "code",
   "execution_count": 10,
   "metadata": {},
   "outputs": [
    {
     "name": "stdout",
     "output_type": "stream",
     "text": [
      "2550\n"
     ]
    }
   ],
   "source": [
    "# Opción 2: utilizando una list comprehension que filtra los\n",
    "# valores pares (i % 2 == 0) y sumando los elementos de la lista con sum:\n",
    "suma = None\n",
    "# TODO\n",
    "suma = sum(n for n in range(101) if n % 2 == 0)\n",
    "print(suma)"
   ]
  },
  {
   "cell_type": "markdown",
   "metadata": {},
   "source": [
    "* 2. La [secuencia de Fibonacci](https://es.wikipedia.org/wiki/Sucesi%C3%B3n_de_Fibonacci) es una secuencia en la que cada término es la suma de los dos términos anteriores (la secuencia comienza con los valores 1 y 1). Calculad la suma de los 50 primeros valores de la secuencia."
   ]
  },
  {
   "cell_type": "code",
   "execution_count": 20,
   "metadata": {},
   "outputs": [
    {
     "name": "stdout",
     "output_type": "stream",
     "text": [
      "[1, 1, 2, 3, 5, 8, 13, 21, 34, 55, 89, 144, 233, 377, 610, 987, 1597, 2584, 4181, 6765, 10946, 17711, 28657, 46368, 75025, 121393, 196418, 317811, 514229, 832040, 1346269, 2178309, 3524578, 5702887, 9227465, 14930352, 24157817, 39088169, 63245986, 102334155, 165580141, 267914296, 433494437, 701408733, 1134903170, 1836311903, 2971215073, 4807526976, 7778742049, 12586269025]\n",
      "32951280098\n"
     ]
    }
   ],
   "source": [
    "# Respuesta\n",
    "# Creamos una lista con los 50 primeros valores\n",
    "fib = [1, 1]\n",
    "# TODO\n",
    "i = 2\n",
    "while i < 50:\n",
    "    res = fib[i-1] + fib[i-2]\n",
    "    fib.append(res)\n",
    "    i += 1\n",
    "print(fib)\n",
    "print(sum(fib))\n",
    "# Sumamos los valores de la secuencia"
   ]
  },
  {
   "cell_type": "markdown",
   "metadata": {},
   "source": [
    "* 3. Se dice que un número es primo si solo es divisible por sí mismo y por 1. Generad una lista con los 100 primeros números primos."
   ]
  },
  {
   "cell_type": "code",
   "execution_count": 46,
   "metadata": {},
   "outputs": [
    {
     "name": "stdout",
     "output_type": "stream",
     "text": [
      "[2, 3, 5, 7, 11, 13, 17, 19, 23, 29, 31, 37, 41, 43, 47, 53, 59, 61, 67, 71, 73, 79, 83, 89, 97, 101, 103, 107, 109, 113, 127, 131, 137, 139, 149, 151, 157, 163, 167, 173, 179, 181, 191, 193, 197, 199, 211, 223, 227, 229, 233, 239, 241, 251, 257, 263, 269, 271, 277, 281, 283, 293, 307, 311, 313, 317, 331, 337, 347, 349, 353, 359, 367, 373, 379, 383, 389, 397, 401, 409, 419, 421, 431, 433, 439, 443, 449, 457, 461, 463, 467, 479, 487, 491, 499, 503, 509, 521, 523, 541, 547]\n"
     ]
    }
   ],
   "source": [
    "# Respuesta\n",
    "primos = [2]\n",
    "i = 3\n",
    "while len(primos) < 101:\n",
    "    is_prime = True\n",
    "    for p in primos:\n",
    "        if i % p == 0:\n",
    "            is_prime = False\n",
    "            break\n",
    "    if is_prime:\n",
    "        primos.append(i)\n",
    "    i += 1\n",
    "\n",
    "print(primos)"
   ]
  },
  {
   "cell_type": "markdown",
   "metadata": {},
   "source": [
    "* 4. Calculad la suma de los cuadrados de los números naturales entre 100 y 200 (ambos valores incluidos)."
   ]
  },
  {
   "cell_type": "code",
   "execution_count": 1,
   "metadata": {},
   "outputs": [
    {
     "name": "stdout",
     "output_type": "stream",
     "text": [
      "2358350\n"
     ]
    }
   ],
   "source": [
    "# Respuesta\n",
    "# Usamos sum sobre una list comprehension que nos genera los valores\n",
    "# de los cuadrados solicitados\n",
    "\n",
    "suma = None \n",
    "suma = sum(n**2 for n in range(100,201))\n",
    "print(suma)\n"
   ]
  },
  {
   "cell_type": "markdown",
   "metadata": {},
   "source": [
    "* 5. Generad todos los números de 3 dígitos que se pueden generar con los dígitos 3, 5 y 7."
   ]
  },
  {
   "cell_type": "code",
   "execution_count": 2,
   "metadata": {},
   "outputs": [
    {
     "name": "stdout",
     "output_type": "stream",
     "text": [
      "['333', '555', '777']\n"
     ]
    }
   ],
   "source": [
    "# Respuesta\n",
    "num_lst = [3,5,7]\n",
    "dig_lst = []\n",
    "for num in num_lst:\n",
    "    dig = str(num) + str(num) + str(num)\n",
    "    dig_lst.append(dig)\n",
    "print(dig_lst)\n"
   ]
  },
  {
   "cell_type": "markdown",
   "metadata": {},
   "source": [
    "* 6. Contad y almacenad el número de veces que aparece cada palabra en el siguiente texto.\n",
    "Forty-two is a pronic number and an abundante number; its prime factorization 2 · 3 · 7 makes it the second sphenic number and also the second of the form (2 · 3 · r)."
   ]
  },
  {
   "cell_type": "code",
   "execution_count": 4,
   "metadata": {},
   "outputs": [
    {
     "name": "stdout",
     "output_type": "stream",
     "text": [
      "F appears 1 times in the text\n",
      "o appears 10 times in the text\n",
      "r appears 9 times in the text\n",
      "t appears 10 times in the text\n",
      "y appears 1 times in the text\n",
      "- appears 1 times in the text\n",
      "t appears 10 times in the text\n",
      "w appears 1 times in the text\n",
      "o appears 10 times in the text\n",
      "  appears 34 times in the text\n",
      "i appears 8 times in the text\n",
      "s appears 7 times in the text\n",
      "  appears 34 times in the text\n",
      "a appears 10 times in the text\n",
      "  appears 34 times in the text\n",
      "p appears 3 times in the text\n",
      "r appears 9 times in the text\n",
      "o appears 10 times in the text\n",
      "n appears 13 times in the text\n",
      "i appears 8 times in the text\n",
      "c appears 5 times in the text\n",
      "  appears 34 times in the text\n",
      "n appears 13 times in the text\n",
      "u appears 4 times in the text\n",
      "m appears 6 times in the text\n",
      "b appears 4 times in the text\n",
      "e appears 12 times in the text\n",
      "r appears 9 times in the text\n",
      "  appears 34 times in the text\n",
      "a appears 10 times in the text\n",
      "n appears 13 times in the text\n",
      "d appears 5 times in the text\n",
      "  appears 34 times in the text\n",
      "a appears 10 times in the text\n",
      "n appears 13 times in the text\n",
      "  appears 34 times in the text\n",
      "a appears 10 times in the text\n",
      "b appears 4 times in the text\n",
      "u appears 4 times in the text\n",
      "n appears 13 times in the text\n",
      "d appears 5 times in the text\n",
      "a appears 10 times in the text\n",
      "n appears 13 times in the text\n",
      "t appears 10 times in the text\n",
      "e appears 12 times in the text\n",
      "  appears 34 times in the text\n",
      "n appears 13 times in the text\n",
      "u appears 4 times in the text\n",
      "m appears 6 times in the text\n",
      "b appears 4 times in the text\n",
      "e appears 12 times in the text\n",
      "r appears 9 times in the text\n",
      "; appears 1 times in the text\n",
      "  appears 34 times in the text\n",
      "i appears 8 times in the text\n",
      "t appears 10 times in the text\n",
      "s appears 7 times in the text\n",
      "  appears 34 times in the text\n",
      "p appears 3 times in the text\n",
      "r appears 9 times in the text\n",
      "i appears 8 times in the text\n",
      "m appears 6 times in the text\n",
      "e appears 12 times in the text\n",
      "  appears 34 times in the text\n",
      "f appears 3 times in the text\n",
      "a appears 10 times in the text\n",
      "c appears 5 times in the text\n",
      "t appears 10 times in the text\n",
      "o appears 10 times in the text\n",
      "r appears 9 times in the text\n",
      "i appears 8 times in the text\n",
      "z appears 1 times in the text\n",
      "a appears 10 times in the text\n",
      "t appears 10 times in the text\n",
      "i appears 8 times in the text\n",
      "o appears 10 times in the text\n",
      "n appears 13 times in the text\n",
      "  appears 34 times in the text\n",
      "2 appears 2 times in the text\n",
      "  appears 34 times in the text\n",
      "· appears 4 times in the text\n",
      "  appears 34 times in the text\n",
      "3 appears 2 times in the text\n",
      "  appears 34 times in the text\n",
      "· appears 4 times in the text\n",
      "  appears 34 times in the text\n",
      "7 appears 1 times in the text\n",
      "  appears 34 times in the text\n",
      "m appears 6 times in the text\n",
      "a appears 10 times in the text\n",
      "k appears 1 times in the text\n",
      "e appears 12 times in the text\n",
      "s appears 7 times in the text\n",
      "  appears 34 times in the text\n",
      "i appears 8 times in the text\n",
      "t appears 10 times in the text\n",
      "  appears 34 times in the text\n",
      "t appears 10 times in the text\n",
      "h appears 4 times in the text\n",
      "e appears 12 times in the text\n",
      "  appears 34 times in the text\n",
      "s appears 7 times in the text\n",
      "e appears 12 times in the text\n",
      "c appears 5 times in the text\n",
      "o appears 10 times in the text\n",
      "n appears 13 times in the text\n",
      "d appears 5 times in the text\n",
      "  appears 34 times in the text\n",
      "s appears 7 times in the text\n",
      "p appears 3 times in the text\n",
      "h appears 4 times in the text\n",
      "e appears 12 times in the text\n",
      "n appears 13 times in the text\n",
      "i appears 8 times in the text\n",
      "c appears 5 times in the text\n",
      "  appears 34 times in the text\n",
      "n appears 13 times in the text\n",
      "u appears 4 times in the text\n",
      "m appears 6 times in the text\n",
      "b appears 4 times in the text\n",
      "e appears 12 times in the text\n",
      "r appears 9 times in the text\n",
      "  appears 34 times in the text\n",
      "a appears 10 times in the text\n",
      "n appears 13 times in the text\n",
      "d appears 5 times in the text\n",
      "  appears 34 times in the text\n",
      "a appears 10 times in the text\n",
      "l appears 1 times in the text\n",
      "s appears 7 times in the text\n",
      "o appears 10 times in the text\n",
      "  appears 34 times in the text\n",
      "t appears 10 times in the text\n",
      "h appears 4 times in the text\n",
      "e appears 12 times in the text\n",
      "  appears 34 times in the text\n",
      "s appears 7 times in the text\n",
      "e appears 12 times in the text\n",
      "c appears 5 times in the text\n",
      "o appears 10 times in the text\n",
      "n appears 13 times in the text\n",
      "d appears 5 times in the text\n",
      "  appears 34 times in the text\n",
      "o appears 10 times in the text\n",
      "f appears 3 times in the text\n",
      "  appears 34 times in the text\n",
      "t appears 10 times in the text\n",
      "h appears 4 times in the text\n",
      "e appears 12 times in the text\n",
      "  appears 34 times in the text\n",
      "f appears 3 times in the text\n",
      "o appears 10 times in the text\n",
      "r appears 9 times in the text\n",
      "m appears 6 times in the text\n",
      "  appears 34 times in the text\n",
      "( appears 1 times in the text\n",
      "2 appears 2 times in the text\n",
      "  appears 34 times in the text\n",
      "· appears 4 times in the text\n",
      "  appears 34 times in the text\n",
      "3 appears 2 times in the text\n",
      "  appears 34 times in the text\n",
      "· appears 4 times in the text\n",
      "  appears 34 times in the text\n",
      "r appears 9 times in the text\n",
      ") appears 1 times in the text\n",
      ". appears 1 times in the text\n"
     ]
    }
   ],
   "source": [
    "# Respuesta\n",
    "phrase = \"Forty-two is a pronic number and an abundante number; its prime factorization 2 · 3 · 7 makes it the second sphenic number and also the second of the form (2 · 3 · r).\"\n",
    "for word in phrase:\n",
    "    number = phrase.count(word)\n",
    "    print(f\"{word} appears {number} times in the text\")"
   ]
  },
  {
   "cell_type": "code",
   "execution_count": 11,
   "metadata": {},
   "outputs": [
    {
     "name": "stdout",
     "output_type": "stream",
     "text": [
      "\"forty-two\" appears 1 times in the text\n",
      "\"is\" appears 1 times in the text\n",
      "\"a\" appears 1 times in the text\n",
      "\"pronic\" appears 1 times in the text\n",
      "\"number\" appears 2 times in the text\n",
      "\"and\" appears 2 times in the text\n",
      "\"an\" appears 1 times in the text\n",
      "\"abundante\" appears 1 times in the text\n",
      "\"number;\" appears 1 times in the text\n",
      "\"its\" appears 1 times in the text\n",
      "\"prime\" appears 1 times in the text\n",
      "\"factorization\" appears 1 times in the text\n",
      "\"2\" appears 1 times in the text\n",
      "\"·\" appears 4 times in the text\n",
      "\"3\" appears 2 times in the text\n",
      "\"·\" appears 4 times in the text\n",
      "\"7\" appears 1 times in the text\n",
      "\"makes\" appears 1 times in the text\n",
      "\"it\" appears 1 times in the text\n",
      "\"the\" appears 3 times in the text\n",
      "\"second\" appears 2 times in the text\n",
      "\"sphenic\" appears 1 times in the text\n",
      "\"number\" appears 2 times in the text\n",
      "\"and\" appears 2 times in the text\n",
      "\"also\" appears 1 times in the text\n",
      "\"the\" appears 3 times in the text\n",
      "\"second\" appears 2 times in the text\n",
      "\"of\" appears 1 times in the text\n",
      "\"the\" appears 3 times in the text\n",
      "\"form\" appears 1 times in the text\n",
      "\"(2\" appears 1 times in the text\n",
      "\"·\" appears 4 times in the text\n",
      "\"3\" appears 2 times in the text\n",
      "\"·\" appears 4 times in the text\n",
      "\"r).\" appears 1 times in the text\n"
     ]
    }
   ],
   "source": [
    "# Respuesta\n",
    "phrase = \"Forty-two is a pronic number and an abundante number; its prime factorization 2 · 3 · 7 makes it the second sphenic number and also the second of the form (2 · 3 · r).\"\n",
    "phrase_low = phrase.lower()\n",
    "phrase_lst = phrase_low.split()\n",
    "for word in phrase_lst:\n",
    "    number = phrase_lst.count(word)\n",
    "    print(f\"\\\"{word}\\\" appears {number} times in the text\")"
   ]
  },
  {
   "cell_type": "markdown",
   "metadata": {},
   "source": [
    "* 7. Generad todas las posibles subcadenas de 3 letras de la siguiente palabra: 'Electrodinamómetro'."
   ]
  },
  {
   "cell_type": "code",
   "execution_count": 18,
   "metadata": {},
   "outputs": [
    {
     "ename": "TypeError",
     "evalue": "string indices must be integers",
     "output_type": "error",
     "traceback": [
      "\u001b[1;31m---------------------------------------------------------------------------\u001b[0m",
      "\u001b[1;31mTypeError\u001b[0m                                 Traceback (most recent call last)",
      "\u001b[1;32mc:\\Users\\Usuario\\Desktop\\The Bridge\\GitHub mío\\Dana_analysis\\labs_aula.ipynb Celda 16\u001b[0m in \u001b[0;36m<cell line: 6>\u001b[1;34m()\u001b[0m\n\u001b[0;32m      <a href='vscode-notebook-cell:/c%3A/Users/Usuario/Desktop/The%20Bridge/GitHub%20m%C3%ADo/Dana_analysis/labs_aula.ipynb#X20sZmlsZQ%3D%3D?line=5'>6</a>\u001b[0m \u001b[39mfor\u001b[39;00m letter \u001b[39min\u001b[39;00m word:\n\u001b[0;32m      <a href='vscode-notebook-cell:/c%3A/Users/Usuario/Desktop/The%20Bridge/GitHub%20m%C3%ADo/Dana_analysis/labs_aula.ipynb#X20sZmlsZQ%3D%3D?line=6'>7</a>\u001b[0m     \u001b[39mwhile\u001b[39;00m i \u001b[39m<\u001b[39m (\u001b[39mlen\u001b[39m(word) \u001b[39m-\u001b[39m \u001b[39m2\u001b[39m):\n\u001b[1;32m----> <a href='vscode-notebook-cell:/c%3A/Users/Usuario/Desktop/The%20Bridge/GitHub%20m%C3%ADo/Dana_analysis/labs_aula.ipynb#X20sZmlsZQ%3D%3D?line=7'>8</a>\u001b[0m         sub \u001b[39m=\u001b[39m word[i,i2]\n\u001b[0;32m      <a href='vscode-notebook-cell:/c%3A/Users/Usuario/Desktop/The%20Bridge/GitHub%20m%C3%ADo/Dana_analysis/labs_aula.ipynb#X20sZmlsZQ%3D%3D?line=8'>9</a>\u001b[0m         \u001b[39mprint\u001b[39m(sub)\n\u001b[0;32m     <a href='vscode-notebook-cell:/c%3A/Users/Usuario/Desktop/The%20Bridge/GitHub%20m%C3%ADo/Dana_analysis/labs_aula.ipynb#X20sZmlsZQ%3D%3D?line=9'>10</a>\u001b[0m         i \u001b[39m+\u001b[39m\u001b[39m=\u001b[39m \u001b[39m1\u001b[39m\n",
      "\u001b[1;31mTypeError\u001b[0m: string indices must be integers"
     ]
    }
   ],
   "source": [
    "# Respuesta\n",
    "word = 'Electrodinamómetro'\n",
    "i = 0 \n",
    "i2 = (i + 2)\n",
    "sub = None\n",
    "for letter in word:\n",
    "    while i < (len(word) - 2):\n",
    "        sub = word[i,i2]\n",
    "        print(sub)\n",
    "        i += 1\n"
   ]
  },
  {
   "cell_type": "code",
   "execution_count": 30,
   "metadata": {},
   "outputs": [
    {
     "name": "stdout",
     "output_type": "stream",
     "text": [
      "Ele\n",
      "lec\n",
      "ect\n",
      "ctr\n",
      "tro\n",
      "rod\n",
      "odi\n",
      "din\n",
      "ina\n",
      "nam\n",
      "amó\n",
      "móm\n",
      "óme\n",
      "met\n",
      "etr\n",
      "tro\n"
     ]
    }
   ],
   "source": [
    "# Respuesta\n",
    "word = 'Electrodinamómetro'\n",
    "i = 0 \n",
    "sub = None\n",
    "for letter in word:\n",
    "    while i < (len(word) - 2):\n",
    "        sub = word[i:i+3]\n",
    "        print(sub)\n",
    "        i += 1"
   ]
  },
  {
   "cell_type": "markdown",
   "metadata": {},
   "source": [
    "* 8. Cread una función que devuelva todas las posibles subcadenas de n letras de una palabra cualquiera. La función recibirá como parámetros el número de letras n y la palabra word, y devolverá una lista con las subcadenas."
   ]
  },
  {
   "cell_type": "code",
   "execution_count": 31,
   "metadata": {},
   "outputs": [
    {
     "name": "stdout",
     "output_type": "stream",
     "text": [
      "Ele\n",
      "lec\n",
      "ect\n",
      "ctr\n",
      "tro\n",
      "rod\n",
      "odi\n",
      "din\n",
      "ina\n",
      "nam\n",
      "amó\n",
      "móm\n",
      "óme\n",
      "met\n",
      "etr\n",
      "tro\n"
     ]
    }
   ],
   "source": [
    "# Respuesta\n",
    "def subcadenas(n, word):\n",
    "    i = 0 \n",
    "    for letter in word:\n",
    "        while i < (len(word)-(n-1)):\n",
    "            sub = word[i:i+3]\n",
    "            print(sub)\n",
    "            i += 1\n",
    "            \n",
    "subcadenas(3, \"Electrodinamómetro\")"
   ]
  }
 ],
 "metadata": {
  "kernelspec": {
   "display_name": "Python 3.9.13 ('rampup_py39')",
   "language": "python",
   "name": "python3"
  },
  "language_info": {
   "codemirror_mode": {
    "name": "ipython",
    "version": 3
   },
   "file_extension": ".py",
   "mimetype": "text/x-python",
   "name": "python",
   "nbconvert_exporter": "python",
   "pygments_lexer": "ipython3",
   "version": "3.9.13"
  },
  "orig_nbformat": 4,
  "vscode": {
   "interpreter": {
    "hash": "841b6b730caa98d10b9b1cb94a042b11b0b3943d20be54364f0ad12c19b8dd2d"
   }
  }
 },
 "nbformat": 4,
 "nbformat_minor": 2
}
