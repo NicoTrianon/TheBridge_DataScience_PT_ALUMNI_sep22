{
 "cells": [
  {
   "cell_type": "markdown",
   "metadata": {},
   "source": [
    "## Ejercicio 1\n",
    "Somos una empresa que tiene varias tiendas de electrodomesticos. Necesitamos un programa para manejar las tiendas, ver las ventas que han tenido, cuántos empleados hay, etc... Para ello vamos a modelizar la tienda en una clase, que tendrá las siguientes características:\n",
    "\n",
    "* Nombre clase: \"Tienda\"\n",
    "* Atributos comunes:\n",
    "    * Tipo: \"Electrodomésticos\"\n",
    "    * Abierta: True\n",
    "* Atributos propios de cada tienda:\n",
    "    * Nombre - String\n",
    "    * Dirección - String\n",
    "    * Número de empleados - int\n",
    "    * Ventas ultimos 3 meses - Lista de 3 numeros\n",
    "* Método para calcular las ventas de todos los meses, que devuelva un numero con todas las ventas.\n",
    "* Método que calcula la media de ventas de los ultimos meses, por empleado\n",
    "* Método que devuelve en un string el nombre de la tienda, junto con su dirección.\n",
    "* Método que obtiene las ventas del último mes.\n",
    "* Método para dar una proyección de las ventas en caso de haber invertido X dinero en marketing en esa tienda. Siendo X el parámetro de entrada. Si X es menor de 1000, las ventas de los ultimos 3 meses hubiesen sido de (1.2 x ventas), si es mayor o igual de 1000, las ventas hubiesen sido de (1.5 x venta). El método reescribe el atributo de ventas en los últimos 3 meses, y además devuelve las ventas con el aumento.\n",
    "\n",
    "* Se pide:\n",
    "1. Implementar la clase \"Tienda\"\n",
    "2. Crear tres tiendas con datos inventados\n",
    "3. Comprueba en al menos una de ellas, todo lo implementado en la clase tienda (sus atributos, media de ventas, ventas/empleado...)\n",
    "4. Calcular las ventas del último mes de todas las tiendas. Para ello usa el bucle `for`\n",
    "5. Imprime por pantalla los nombres de las tiendas cuya dirección lleve el string \"Avenida\"\n",
    "6. Utilizad este notebook para ejecutar y un fichero para definir vuestras clases, métodos y funciones.\n",
    "7. Seguro que ya has hecho este apartado... Documenta la clase :)"
   ]
  },
  {
   "cell_type": "code",
   "execution_count": 1,
   "metadata": {},
   "outputs": [],
   "source": [
    "import numpy as np\n",
    "\n",
    "class Tienda:\n",
    "\n",
    "    tipo_tienda = \"Electrodoméstico\"\n",
    "    abierta = True\n",
    "\n",
    "    def __init__(self, nombre, direccion, empleados, ventas):\n",
    "        self.nombre = nombre\n",
    "        self.direccion = direccion\n",
    "        self.empleados = empleados\n",
    "        self.ventas = ventas \n",
    "\n",
    "    def ventas_totales(self):\n",
    "        return sum(self.ventas)\n",
    "    \n",
    "    def media_vtas_x_empleado(self):\n",
    "        return (np.mean(self.ventas))/(self.empleados)\n",
    "\n",
    "    def nombre_y_dir(self):\n",
    "        return (f\"El nombre de la tienda es {self.nombre} y la dirección es {self.direccion}\")\n",
    "\n",
    "    def vtas_ultimo_mes(self):\n",
    "        return (self.ventas[-1])\n",
    "\n",
    "    def proyeccion_vtas(self, x):\n",
    "        if x < 1000: \n",
    "            for i in range(len(self.ventas)):\n",
    "                self.ventas[i] = self.ventas[i] * 1.2\n",
    "        elif x >= 1000:\n",
    "            for i in range(len(self.ventas)):\n",
    "                self.ventas[i] = self.ventas[i] * 1.5\n",
    "        return self.ventas\n",
    "\n",
    "       "
   ]
  },
  {
   "cell_type": "code",
   "execution_count": 2,
   "metadata": {},
   "outputs": [],
   "source": [
    "tienda_1 = Tienda(\"Baluard\", \"Carrer de Baluard, 24\", 7, [250, 210, 280])\n",
    "\n",
    "tienda_2 = Tienda(\"Arago\", \"Carrer de Arago, 110\", 9, [310, 330, 290])\n",
    "\n",
    "tienda_3 = Tienda(\"Gran Via\", \"Gran Via, 180\", 10, [300, 280, 320])"
   ]
  },
  {
   "cell_type": "code",
   "execution_count": 3,
   "metadata": {},
   "outputs": [
    {
     "data": {
      "text/plain": [
       "'Electrodoméstico'"
      ]
     },
     "execution_count": 3,
     "metadata": {},
     "output_type": "execute_result"
    }
   ],
   "source": [
    "Tienda.tipo_tienda"
   ]
  },
  {
   "cell_type": "code",
   "execution_count": 23,
   "metadata": {},
   "outputs": [
    {
     "data": {
      "text/plain": [
       "'Baluard'"
      ]
     },
     "execution_count": 23,
     "metadata": {},
     "output_type": "execute_result"
    }
   ],
   "source": [
    "tienda_1.nombre"
   ]
  },
  {
   "cell_type": "code",
   "execution_count": 4,
   "metadata": {},
   "outputs": [
    {
     "data": {
      "text/plain": [
       "740"
      ]
     },
     "execution_count": 4,
     "metadata": {},
     "output_type": "execute_result"
    }
   ],
   "source": [
    "tienda_1.ventas_totales() "
   ]
  },
  {
   "cell_type": "code",
   "execution_count": 5,
   "metadata": {},
   "outputs": [
    {
     "data": {
      "text/plain": [
       "34.44444444444444"
      ]
     },
     "execution_count": 5,
     "metadata": {},
     "output_type": "execute_result"
    }
   ],
   "source": [
    "tienda_2.media_vtas_x_empleado()"
   ]
  },
  {
   "cell_type": "code",
   "execution_count": 6,
   "metadata": {},
   "outputs": [
    {
     "data": {
      "text/plain": [
       "'El nombre de la tienda es Gran Via y la dirección es Gran Via, 180'"
      ]
     },
     "execution_count": 6,
     "metadata": {},
     "output_type": "execute_result"
    }
   ],
   "source": [
    "tienda_3.nombre_y_dir()"
   ]
  },
  {
   "cell_type": "code",
   "execution_count": 7,
   "metadata": {},
   "outputs": [
    {
     "data": {
      "text/plain": [
       "280"
      ]
     },
     "execution_count": 7,
     "metadata": {},
     "output_type": "execute_result"
    }
   ],
   "source": [
    "tienda_1.vtas_ultimo_mes()"
   ]
  },
  {
   "cell_type": "code",
   "execution_count": 8,
   "metadata": {},
   "outputs": [
    {
     "data": {
      "text/plain": [
       "[372.0, 396.0, 348.0]"
      ]
     },
     "execution_count": 8,
     "metadata": {},
     "output_type": "execute_result"
    }
   ],
   "source": [
    "tienda_2.proyeccion_vtas(900)"
   ]
  },
  {
   "cell_type": "code",
   "execution_count": 21,
   "metadata": {},
   "outputs": [
    {
     "name": "stdout",
     "output_type": "stream",
     "text": [
      "[280, 348.0, 320]\n",
      "La suma de las ventas de todas las tiendas del último mes fue de 948.0\n"
     ]
    }
   ],
   "source": [
    "## Cálculo de las ventas del último mes de todas las tiendas con un bucle for\n",
    "tiendas_lst = [tienda_1, tienda_2, tienda_3]\n",
    "\n",
    "tiendas_last_month = []\n",
    "\n",
    "for i in tiendas_lst:\n",
    "    vts_last_month = i.vtas_ultimo_mes()\n",
    "    tiendas_last_month.append(vts_last_month)\n",
    "\n",
    "print(tiendas_last_month)\n",
    "\n",
    "res_vts = sum(tiendas_last_month)\n",
    "print(f\"La suma de las ventas de todas las tiendas del último mes fue de {res_vts}\")\n"
   ]
  },
  {
   "cell_type": "code",
   "execution_count": 27,
   "metadata": {},
   "outputs": [
    {
     "name": "stdout",
     "output_type": "stream",
     "text": [
      "Ninguna tienda tiene la palabra \"Avenida\" en el nombre\n"
     ]
    }
   ],
   "source": [
    "tiendas_lst = [tienda_1, tienda_2, tienda_3]\n",
    "\n",
    "\n",
    "if \"Avenida\" in i.nombre:\n",
    "    print(i.nombre)\n",
    "else:\n",
    "    print(\"Ninguna tienda tiene la palabra \\\"Avenida\\\" en el nombre\")"
   ]
  }
 ],
 "metadata": {
  "kernelspec": {
   "display_name": "Python 3.9.13 ('rampup_py39')",
   "language": "python",
   "name": "python3"
  },
  "language_info": {
   "codemirror_mode": {
    "name": "ipython",
    "version": 3
   },
   "file_extension": ".py",
   "mimetype": "text/x-python",
   "name": "python",
   "nbconvert_exporter": "python",
   "pygments_lexer": "ipython3",
   "version": "3.9.13"
  },
  "orig_nbformat": 4,
  "vscode": {
   "interpreter": {
    "hash": "841b6b730caa98d10b9b1cb94a042b11b0b3943d20be54364f0ad12c19b8dd2d"
   }
  }
 },
 "nbformat": 4,
 "nbformat_minor": 2
}
