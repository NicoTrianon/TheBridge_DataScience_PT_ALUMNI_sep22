{
 "cells": [
  {
   "cell_type": "markdown",
   "metadata": {},
   "source": [
    "Programación para *Data Science*\n",
    "============================\n",
    "\n",
    "Intro101 - week5\n",
    " Conceptos avanzados de Python\n",
    "--------------------------------------\n",
    "\n",
    "En este Notebook encontraréis dos conjuntos de ejercicios de Python."
   ]
  },
  {
   "cell_type": "markdown",
   "metadata": {},
   "source": [
    "### Ejercicio 1\n",
    "\n",
    "Al final de la Edad Media, en Francia, el diplomático francés Blaise de Vigenère desarrollo un algoritmo para cifrar mensajes que nadie fue capaz de romper durante aproximadamente 250 años. El algoritmo se conoce con el nombre de [cifrado de Vigenère](https://es.wikipedia.org/wiki/Cifrado_de_Vigen%C3%A8re).\n",
    "\n",
    "El cifrado de Vigenère consiste en añadir a cada una de las letras de un texto un desplazamiento a partir de una clave secreta para conseguir una nueva letra diferente de la original. Veamos un ejemplo:\n",
    "\n",
    "Si asignamos el número 1 a la primera letra del abecedario, A, 2 a la siguiente, B, etc., imaginad que tenemos el siguiente mensaje:\n",
    "<code>\n",
    "ABC\n",
    "123\n",
    "</code>\n",
    "\n",
    "y la siguiente clave secreta:\n",
    "<code>\n",
    "DEF\n",
    "456\n",
    "</code>\n",
    "\n",
    "A cada letra del mensaje original aplicamos un desplazamiento en función de la misma posición dentro de la clave secreta. Por lo tanto, el mensaje cifrado quedaría de la siguiente forma:\n",
    "<code>\n",
    "   E       G       I\n",
    "(1 + 4) (2 + 5) (3 + 6)\n",
    "</code>\n",
    "\n",
    "Escribid una función que, dado un mensaje y una clave secreta, calcule y devuelva el mensaje cifrado.\n",
    "\n",
    "*Consideraciones.*\n",
    "\n",
    "- Utilizad como alfabeto de entrada **el alfabeto inglés en mayúsculas**.\n",
    "- El valor por defecto de la clave secreta será **DATASCI**."
   ]
  },
  {
   "cell_type": "code",
   "execution_count": 74,
   "metadata": {},
   "outputs": [
    {
     "name": "stdout",
     "output_type": "stream",
     "text": [
      "{1: 'D', 2: 'A', 3: 'T', 4: 'A', 5: 'S', 6: 'C', 7: 'I', 8: 'D', 9: 'A', 10: 'T', 11: 'A', 12: 'S', 13: 'C', 14: 'I', 15: 'D', 16: 'A', 17: 'T', 18: 'A', 19: 'S', 20: 'C', 21: 'I', 22: 'D', 23: 'A', 24: 'T', 25: 'A', 26: 'S', 27: 'C', 28: 'I'}\n"
     ]
    }
   ],
   "source": [
    "clave = \"DATASCI\"\n",
    "\n",
    "clave_lst = []\n",
    "\n",
    "while len(clave_lst) <= 26:\n",
    "    for i in clave:\n",
    "        clave_lst.append(i)\n",
    "\n",
    "clave_dict = {}\n",
    "for i, e in enumerate(clave_lst,1):\n",
    "    clave_dict[i] = e\n",
    "        \n",
    "\n",
    "print(clave_dict)"
   ]
  },
  {
   "cell_type": "code",
   "execution_count": 96,
   "metadata": {},
   "outputs": [
    {
     "ename": "KeyError",
     "evalue": "0",
     "output_type": "error",
     "traceback": [
      "\u001b[1;31m---------------------------------------------------------------------------\u001b[0m",
      "\u001b[1;31mKeyError\u001b[0m                                  Traceback (most recent call last)",
      "\u001b[1;32mc:\\Users\\Usuario\\Desktop\\The Bridge\\Git Hub mío - copia de clase\\02_DATA_ANALYSIS\\01_PYTHON_201\\week05\\pra\\02_python_funciones.ipynb Celda 4\u001b[0m in \u001b[0;36m<cell line: 33>\u001b[1;34m()\u001b[0m\n\u001b[0;32m     <a href='vscode-notebook-cell:/c%3A/Users/Usuario/Desktop/The%20Bridge/Git%20Hub%20m%C3%ADo%20-%20copia%20de%20clase/02_DATA_ANALYSIS/01_PYTHON_201/week05/pra/02_python_funciones.ipynb#X15sZmlsZQ%3D%3D?line=29'>30</a>\u001b[0m     \u001b[39mreturn\u001b[39;00m mensaje_cifrado\n\u001b[0;32m     <a href='vscode-notebook-cell:/c%3A/Users/Usuario/Desktop/The%20Bridge/Git%20Hub%20m%C3%ADo%20-%20copia%20de%20clase/02_DATA_ANALYSIS/01_PYTHON_201/week05/pra/02_python_funciones.ipynb#X15sZmlsZQ%3D%3D?line=31'>32</a>\u001b[0m \u001b[39m# Aquí podéis añadir más ejemplos:\u001b[39;00m\n\u001b[1;32m---> <a href='vscode-notebook-cell:/c%3A/Users/Usuario/Desktop/The%20Bridge/Git%20Hub%20m%C3%ADo%20-%20copia%20de%20clase/02_DATA_ANALYSIS/01_PYTHON_201/week05/pra/02_python_funciones.ipynb#X15sZmlsZQ%3D%3D?line=32'>33</a>\u001b[0m \u001b[39mprint\u001b[39m(cifrado_vigenere(\u001b[39m\"\u001b[39;49m\u001b[39mATACAREMOS AL AMANECER\u001b[39;49m\u001b[39m\"\u001b[39;49m))\n",
      "\u001b[1;32mc:\\Users\\Usuario\\Desktop\\The Bridge\\Git Hub mío - copia de clase\\02_DATA_ANALYSIS\\01_PYTHON_201\\week05\\pra\\02_python_funciones.ipynb Celda 4\u001b[0m in \u001b[0;36mcifrado_vigenere\u001b[1;34m(mensaje, clave)\u001b[0m\n\u001b[0;32m     <a href='vscode-notebook-cell:/c%3A/Users/Usuario/Desktop/The%20Bridge/Git%20Hub%20m%C3%ADo%20-%20copia%20de%20clase/02_DATA_ANALYSIS/01_PYTHON_201/week05/pra/02_python_funciones.ipynb#X15sZmlsZQ%3D%3D?line=23'>24</a>\u001b[0m     \u001b[39mif\u001b[39;00m m \u001b[39mnot\u001b[39;00m \u001b[39min\u001b[39;00m diccionario:\n\u001b[0;32m     <a href='vscode-notebook-cell:/c%3A/Users/Usuario/Desktop/The%20Bridge/Git%20Hub%20m%C3%ADo%20-%20copia%20de%20clase/02_DATA_ANALYSIS/01_PYTHON_201/week05/pra/02_python_funciones.ipynb#X15sZmlsZQ%3D%3D?line=24'>25</a>\u001b[0m         \u001b[39mpass\u001b[39;00m\n\u001b[1;32m---> <a href='vscode-notebook-cell:/c%3A/Users/Usuario/Desktop/The%20Bridge/Git%20Hub%20m%C3%ADo%20-%20copia%20de%20clase/02_DATA_ANALYSIS/01_PYTHON_201/week05/pra/02_python_funciones.ipynb#X15sZmlsZQ%3D%3D?line=25'>26</a>\u001b[0m     codigo \u001b[39m=\u001b[39m diccionario[m] \u001b[39m+\u001b[39m clave_dict_values[n]\n\u001b[0;32m     <a href='vscode-notebook-cell:/c%3A/Users/Usuario/Desktop/The%20Bridge/Git%20Hub%20m%C3%ADo%20-%20copia%20de%20clase/02_DATA_ANALYSIS/01_PYTHON_201/week05/pra/02_python_funciones.ipynb#X15sZmlsZQ%3D%3D?line=26'>27</a>\u001b[0m     mensaje_cifrado \u001b[39m=\u001b[39m mensaje_cifrado \u001b[39m+\u001b[39m diccionario[codigo]\n\u001b[0;32m     <a href='vscode-notebook-cell:/c%3A/Users/Usuario/Desktop/The%20Bridge/Git%20Hub%20m%C3%ADo%20-%20copia%20de%20clase/02_DATA_ANALYSIS/01_PYTHON_201/week05/pra/02_python_funciones.ipynb#X15sZmlsZQ%3D%3D?line=29'>30</a>\u001b[0m \u001b[39mreturn\u001b[39;00m mensaje_cifrado\n",
      "\u001b[1;31mKeyError\u001b[0m: 0"
     ]
    }
   ],
   "source": [
    "def cifrado_vigenere(mensaje, clave=\"DATASCI\"):\n",
    "    \"\"\"\n",
    "    Cifra el mensaje utilizando el cifrado de Vigenère\n",
    "    \"\"\"\n",
    "    mensaje_cifrado = None\n",
    "\n",
    "    diccionario = {\"A\": 1, \"B\": 2, \"C\": 3, \"D\": 4, \"E\": 5, \"F\": 6, \"G\": 7, \"H\": 8, \"I\": 9, \"J\": 10, \"K\": 11, \"L\": 12, \"M\": 13, \"N\": 14, \"O\": 15, \"P\": 16, \"Q\": 17, \"R\": 18, \"S\": 19, \"T\": 20, \"U\": 21, \"V\": 22, \"W\": 23, \"X\": 24, \"Y\": 25, \"Z\": 26}\n",
    "    \n",
    "    clave_lst = []\n",
    "\n",
    "    while len(clave_lst) <= 26:\n",
    "        for i in clave:\n",
    "            clave_lst.append(i)\n",
    "\n",
    "    clave_dict = {}\n",
    "    for i, e in enumerate(clave_lst,1):\n",
    "        clave_dict[i] = e\n",
    "    \n",
    "    mens_lista = mensaje.split()\n",
    "\n",
    "    clave_dict_values = list(clave_dict.values())\n",
    "\n",
    "    for m in mens_lista:\n",
    "        for n in clave_dict_values:\n",
    "            codigo = diccionario[m] + clave_dict_values[n]\n",
    "            mensaje_cifrado = mensaje_cifrado + diccionario[codigo]\n",
    "\n",
    "\n",
    "    return mensaje_cifrado\n",
    "\n",
    "# Aquí podéis añadir más ejemplos:\n",
    "print(cifrado_vigenere(\"ATACAREMOS AL AMANECER\"))\n",
    "\n",
    "## No lo pude completar, no entiendo por qué me sigue dando errores al tratar de extraer el value del diccionario \n",
    "## de la clave"
   ]
  },
  {
   "cell_type": "markdown",
   "metadata": {},
   "source": [
    "### Ejercicio 2\n",
    "\n",
    "Completad las siguientes funciones y documentad el código si lo consideráis oportuno. Finalmente, escribid al menos un ejemplo de uso para cada función."
   ]
  },
  {
   "cell_type": "code",
   "execution_count": 2,
   "metadata": {},
   "outputs": [
    {
     "name": "stdout",
     "output_type": "stream",
     "text": [
      "El objeto se ha dejado caer des de una altura de 490.000000 metros\n",
      "El objeto se ha dejado caer des de una altura de 11.030000 metros\n"
     ]
    },
    {
     "ename": "TypeError",
     "evalue": "can't convert complex to float",
     "output_type": "error",
     "traceback": [
      "\u001b[1;31m---------------------------------------------------------------------------\u001b[0m",
      "\u001b[1;31mTypeError\u001b[0m                                 Traceback (most recent call last)",
      "\u001b[1;32mc:\\Users\\Usuario\\Desktop\\The Bridge\\Git Hub mío - copia de clase\\02_DATA_ANALYSIS\\01_PYTHON_201\\week05\\pra\\02_python_funciones.ipynb Celda 5\u001b[0m in \u001b[0;36m<cell line: 50>\u001b[1;34m()\u001b[0m\n\u001b[0;32m     <a href='vscode-notebook-cell:/c%3A/Users/Usuario/Desktop/The%20Bridge/Git%20Hub%20m%C3%ADo%20-%20copia%20de%20clase/02_DATA_ANALYSIS/01_PYTHON_201/week05/pra/02_python_funciones.ipynb#W4sZmlsZQ%3D%3D?line=45'>46</a>\u001b[0m \u001b[39mprint\u001b[39m(\u001b[39m\"\u001b[39m\u001b[39mEl objeto se ha dejado caer des de una altura de \u001b[39m\u001b[39m%f\u001b[39;00m\u001b[39m metros\u001b[39m\u001b[39m\"\u001b[39m \u001b[39m%\u001b[39m calcular_altura_caida_libre(\u001b[39m10\u001b[39m))\n\u001b[0;32m     <a href='vscode-notebook-cell:/c%3A/Users/Usuario/Desktop/The%20Bridge/Git%20Hub%20m%C3%ADo%20-%20copia%20de%20clase/02_DATA_ANALYSIS/01_PYTHON_201/week05/pra/02_python_funciones.ipynb#W4sZmlsZQ%3D%3D?line=46'>47</a>\u001b[0m \u001b[39mprint\u001b[39m(\u001b[39m\"\u001b[39m\u001b[39mEl objeto se ha dejado caer des de una altura de \u001b[39m\u001b[39m%f\u001b[39;00m\u001b[39m metros\u001b[39m\u001b[39m\"\u001b[39m \u001b[39m%\u001b[39m calcular_altura_caida_libre(\u001b[39m1.5\u001b[39m))\n\u001b[1;32m---> <a href='vscode-notebook-cell:/c%3A/Users/Usuario/Desktop/The%20Bridge/Git%20Hub%20m%C3%ADo%20-%20copia%20de%20clase/02_DATA_ANALYSIS/01_PYTHON_201/week05/pra/02_python_funciones.ipynb#W4sZmlsZQ%3D%3D?line=49'>50</a>\u001b[0m \u001b[39mprint\u001b[39m(\u001b[39m\"\u001b[39;49m\u001b[39mLas coordenadas en el sistema cartesiano del punto (13, 23) son (\u001b[39;49m\u001b[39m%f\u001b[39;49;00m\u001b[39m, \u001b[39;49m\u001b[39m%f\u001b[39;49;00m\u001b[39m).\u001b[39;49m\u001b[39m\"\u001b[39;49m \u001b[39m%\u001b[39;49m calcular_coordenadas_cartesianas(\u001b[39m13\u001b[39;49m, \u001b[39m23\u001b[39;49m))\n\u001b[0;32m     <a href='vscode-notebook-cell:/c%3A/Users/Usuario/Desktop/The%20Bridge/Git%20Hub%20m%C3%ADo%20-%20copia%20de%20clase/02_DATA_ANALYSIS/01_PYTHON_201/week05/pra/02_python_funciones.ipynb#W4sZmlsZQ%3D%3D?line=50'>51</a>\u001b[0m \u001b[39mprint\u001b[39m(\u001b[39m\"\u001b[39m\u001b[39mLas coordenadas en el sistema cartesiano del punto (5, 90) son (\u001b[39m\u001b[39m%f\u001b[39;00m\u001b[39m, \u001b[39m\u001b[39m%f\u001b[39;00m\u001b[39m).\u001b[39m\u001b[39m\"\u001b[39m \u001b[39m%\u001b[39m calcular_coordenadas_cartesianas(\u001b[39m5\u001b[39m, \u001b[39m90\u001b[39m))\n",
      "\u001b[1;31mTypeError\u001b[0m: can't convert complex to float"
     ]
    }
   ],
   "source": [
    "# Completad las funciones matemáticas siguientes\n",
    "import math\n",
    "\n",
    "\"\"\"Función que calcula la altura en un movimiento de caída libre\n",
    "\n",
    "Suponemos que dejamos caer un objeto des de un edificio de altura desconocida.\n",
    "El parámetro duracion_caida nos indica el tiempo (en segundos) que tarda el objeto en llegar a \n",
    "la tierra. La función debería calcular la altura del edificio des del cual se ha \n",
    "lanzado el objeto.\n",
    "\n",
    "Podéis encontrar más información sobre el movimiento de caída libre en el siguiente \n",
    "enlace: https://www.fisicalab.com/apartado/caida-libre#contenidos.\n",
    "\"\"\"\n",
    "\n",
    "def calcular_altura_caida_libre(duracion_caida):\n",
    "    # Definimos las variables que intervendran en la equación\n",
    "    \n",
    "    gravity = 9.8\n",
    "    h = (gravity * (duracion_caida**2)) / 2\n",
    "\n",
    "    \n",
    "    return (round(h, 2))\n",
    "\n",
    "\n",
    "\n",
    "\"\"\"Función que calcula las coordenadas cartesianas de un punto representado en coordenadas polares\n",
    "\n",
    "Dado un punto representado por sus coordenadas polares (radio y angulo), la función debería calcular \n",
    "las correspondientes coordenadas cartesianas y devolver una tupla con su valor.\n",
    "\n",
    "Podéis encontrar más información sobre el sistema de coordenadas polares y su conversión al sistema \n",
    "cartesiano en el siguiente enlace: https://es.wikipedia.org/wiki/Coordenadas_polares.\n",
    "\"\"\"\n",
    "\n",
    "from cmath import cos, sin\n",
    "\n",
    "def calcular_coordenadas_cartesianas(radio, angulo_en_grados):\n",
    "    # Convertimos el ángulo a radianes\n",
    "    angulo_radianes = math.radians(angulo_en_grados)\n",
    "    x = radio * cos(angulo_en_grados)\n",
    "    y = radio * sin(angulo_en_grados)  \n",
    "\n",
    "    return x,y\n",
    "\n",
    "# Escribid aquí al menos un ejemplo de uso utilizando las funciones anteriores. Por ejemplo:\n",
    "print(\"El objeto se ha dejado caer des de una altura de %f metros\" % calcular_altura_caida_libre(10))\n",
    "print(\"El objeto se ha dejado caer des de una altura de %f metros\" % calcular_altura_caida_libre(1.5))\n",
    "\n",
    "\n",
    "print(\"Las coordenadas en el sistema cartesiano del punto (13, 23) son (%f, %f).\" % calcular_coordenadas_cartesianas(13, 23))\n",
    "print(\"Las coordenadas en el sistema cartesiano del punto (5, 90) son (%f, %f).\" % calcular_coordenadas_cartesianas(5, 90))"
   ]
  },
  {
   "cell_type": "code",
   "execution_count": null,
   "metadata": {},
   "outputs": [],
   "source": []
  }
 ],
 "metadata": {
  "kernelspec": {
   "display_name": "Python 3.9.13 ('rampup_py39')",
   "language": "python",
   "name": "python3"
  },
  "language_info": {
   "codemirror_mode": {
    "name": "ipython",
    "version": 3
   },
   "file_extension": ".py",
   "mimetype": "text/x-python",
   "name": "python",
   "nbconvert_exporter": "python",
   "pygments_lexer": "ipython3",
   "version": "3.9.13"
  },
  "orig_nbformat": 4,
  "vscode": {
   "interpreter": {
    "hash": "841b6b730caa98d10b9b1cb94a042b11b0b3943d20be54364f0ad12c19b8dd2d"
   }
  }
 },
 "nbformat": 4,
 "nbformat_minor": 2
}
