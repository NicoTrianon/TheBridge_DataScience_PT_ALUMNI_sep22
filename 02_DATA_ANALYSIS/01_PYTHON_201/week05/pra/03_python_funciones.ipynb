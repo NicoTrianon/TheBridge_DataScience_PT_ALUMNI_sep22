{
 "cells": [
  {
   "cell_type": "markdown",
   "metadata": {},
   "source": [
    "## Programación Data Science"
   ]
  },
  {
   "cell_type": "markdown",
   "metadata": {},
   "source": [
    "## Ejercicio 1\n",
    "\n",
    "Definid una función que pueda recibir un número de parámetros cualquiera, superior a 1, y que devuelva el resultado de sumar el resultado de aplicar la función que recibe como primer parámetro a cada uno de los otros parámetros.\n",
    "\n",
    "Por ejemplo, si la función recibe como primer argumento una función que calcula cuadrados, como segundo argumento un 5, y como tercer argumento un 10, debería devolver $5^2 + 10^2 = 125$\n",
    "\n",
    "Llamad a la función definida con los valores del ejemplo mencionado en el enunciado, y comprobad que se obtiene el resultado correcto. Comprobad también que la función devuelve los resultados esperados para una llamada con dos argumentos y con cinco argumentos.\n"
   ]
  },
  {
   "cell_type": "code",
   "execution_count": 40,
   "metadata": {},
   "outputs": [
    {
     "data": {
      "text/plain": [
       "125"
      ]
     },
     "execution_count": 40,
     "metadata": {},
     "output_type": "execute_result"
    }
   ],
   "source": [
    "## Respuesta\n",
    "x = 0\n",
    "\n",
    "def f(x):\n",
    "    return x**2\n",
    "\n",
    "def mi_func(funcion, *extra_params):\n",
    "    res_list = []\n",
    "    for k in extra_params:\n",
    "        res = f(k)\n",
    "        res_list.append(res)\n",
    "        \n",
    "    return sum(res_list)\n",
    "\n",
    "mi_func(f(x), 5, 10)"
   ]
  },
  {
   "cell_type": "code",
   "execution_count": 38,
   "metadata": {},
   "outputs": [
    {
     "data": {
      "text/plain": [
       "125"
      ]
     },
     "execution_count": 38,
     "metadata": {},
     "output_type": "execute_result"
    }
   ],
   "source": [
    "def mi_func(f, *extra_params):\n",
    "\n",
    "    def f(x):\n",
    "        return x**2\n",
    "    \n",
    "    res_list = []\n",
    "\n",
    "    for i in extra_params:\n",
    "        res = f(i)\n",
    "        res_list.append(res)\n",
    "\n",
    "    return sum(res_list)\n",
    "\n",
    "mi_func(f(x), 5, 10)"
   ]
  },
  {
   "cell_type": "markdown",
   "metadata": {},
   "source": [
    "## Ejercicio 2\n",
    "\n",
    "Definid una función que reciba dos parámetros, una lista de enteros y un entero, y devuelva una lista con los mismos elementos que la lista original eliminando todas las apariciones del entero especificado.\n",
    "\n",
    " Implementad una función que modifique la lista original. Haced una llamada a la función definida y mostrad que, efectivamente, la lista original se modifica."
   ]
  },
  {
   "cell_type": "code",
   "execution_count": 53,
   "metadata": {},
   "outputs": [
    {
     "data": {
      "text/plain": [
       "[1, 2]"
      ]
     },
     "execution_count": 53,
     "metadata": {},
     "output_type": "execute_result"
    }
   ],
   "source": [
    "def func_2(lista, num):\n",
    "    \n",
    "    while num in lista:\n",
    "        lista.remove(num)\n",
    "        \n",
    "    return lista\n",
    "\n",
    "func_2([1,3,2,3,3], 3)"
   ]
  },
  {
   "cell_type": "markdown",
   "metadata": {},
   "source": [
    "## Ejercicio 3\n",
    "\n",
    "Implementad una función que no modifique la lista original. Haced una llamada a la función definida y mostrad que, efectivamente, no se modifica la lista original."
   ]
  },
  {
   "cell_type": "code",
   "execution_count": 56,
   "metadata": {},
   "outputs": [
    {
     "data": {
      "text/plain": [
       "[]"
      ]
     },
     "execution_count": 56,
     "metadata": {},
     "output_type": "execute_result"
    }
   ],
   "source": [
    "## Respuesta\n",
    "\n",
    "def func_2(lista, num):\n",
    "    \n",
    "    new_list = []\n",
    "\n",
    "    new_list = [value for value in lista if num not in lista]\n",
    "        \n",
    "    return new_list\n",
    "\n",
    "func_2([1,3,2,3,3], 3)"
   ]
  },
  {
   "cell_type": "code",
   "execution_count": 62,
   "metadata": {},
   "outputs": [
    {
     "name": "stdout",
     "output_type": "stream",
     "text": [
      "La lista original es [1, 3, 2, 3, 3]\n",
      "El número a remover es 3\n"
     ]
    },
    {
     "data": {
      "text/plain": [
       "'La nueva lista es [1, 2]'"
      ]
     },
     "execution_count": 62,
     "metadata": {},
     "output_type": "execute_result"
    }
   ],
   "source": [
    "## Respuesta\n",
    "\n",
    "def func_2(lista, num):\n",
    "    \n",
    "    new_list = []\n",
    "\n",
    "    for i in lista:\n",
    "        if i != num:\n",
    "            new_list.append(i)\n",
    "        \n",
    "\n",
    "    print(f\"La lista original es {lista}\")\n",
    "    print(f\"El número a remover es {num}\")  \n",
    "    return(f\"La nueva lista es {new_list}\")\n",
    "\n",
    "func_2([1,3,2,3,3], 3)"
   ]
  }
 ],
 "metadata": {
  "kernelspec": {
   "display_name": "Python 3.9.13 ('rampup_py39')",
   "language": "python",
   "name": "python3"
  },
  "language_info": {
   "codemirror_mode": {
    "name": "ipython",
    "version": 3
   },
   "file_extension": ".py",
   "mimetype": "text/x-python",
   "name": "python",
   "nbconvert_exporter": "python",
   "pygments_lexer": "ipython3",
   "version": "3.9.13"
  },
  "orig_nbformat": 4,
  "vscode": {
   "interpreter": {
    "hash": "841b6b730caa98d10b9b1cb94a042b11b0b3943d20be54364f0ad12c19b8dd2d"
   }
  }
 },
 "nbformat": 4,
 "nbformat_minor": 2
}
