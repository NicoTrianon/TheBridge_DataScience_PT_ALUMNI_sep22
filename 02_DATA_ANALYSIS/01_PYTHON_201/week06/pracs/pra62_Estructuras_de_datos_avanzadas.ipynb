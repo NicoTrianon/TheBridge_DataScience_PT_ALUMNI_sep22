{
 "cells": [
  {
   "cell_type": "markdown",
   "metadata": {},
   "source": [
    "# Ejercicios para practicar - Estructura de datos\n",
    "\n",
    "A continuación encontraréis un conjunto de problemas que pueden servir para practicar los conceptos explicados en esta primera unidad, así como para refrescar los conceptos básicos de programación. Os recomendamos que intentéis realizar estos problemas vosotros mismos y que, una vez realizados, comparéis la solución que proponemos con vuestra solución. No dudéis en dirigir todas las dudas que surjan de la resolución de estos ejercicios, o bien de las soluciones propuestas, al foro del aula.\n",
    "\n",
    "1. Decidid cuál es la estructura de datos más adecuada para responder a cada una de las preguntas siguientes y escribid el código que permita responderlas.\n",
    "\n",
    "Disponemos de datos de un conjunto de ciudades del mundo. De cada ciudad, sabemos si tiene más de 14 millones de habitantes, si es capital del país donde se encuentra y si tiene una densidad de población por encima de los 20.000 habitantes por $km^2$:\n",
    "* Las ciudades Shanghai, Beijing, Delhi, Estambul, Karachi, Guangzhou y Kinshasa tienen más de 14 millones de habitantes. El resto de las ciudades de las que tenemos datos tienen 14 millones o menos de habitantes.\n",
    "* Las ciudades Delhi, Beijing, Kinshasa, Tokio, Moscow, Jakarta, Seoul y El Cairo son capitales del país donde se encuentran. El resto de las ciudades de las que tenemos datos no son capitales.\n",
    "* Las ciudades El Cairo, Kinshasa, Delhi y Tokio tienen una densidad de población por encima de los 20.000 habitantes por $km^2$. El resto de las ciudades de las que tenemos datos no superan los 20.000 habitantes por $km^2$. \n",
    "\n",
    "1.1. ¿De cuántas ciudades (diferentes) tenemos datos? Asumiremos que no hay ninguna ciudad que no cumpla al menos una de las propiedades anteriores.\n"
   ]
  },
  {
   "cell_type": "code",
   "execution_count": 1,
   "metadata": {},
   "outputs": [
    {
     "data": {
      "text/html": [
       "<div>\n",
       "<style scoped>\n",
       "    .dataframe tbody tr th:only-of-type {\n",
       "        vertical-align: middle;\n",
       "    }\n",
       "\n",
       "    .dataframe tbody tr th {\n",
       "        vertical-align: top;\n",
       "    }\n",
       "\n",
       "    .dataframe thead th {\n",
       "        text-align: right;\n",
       "    }\n",
       "</style>\n",
       "<table border=\"1\" class=\"dataframe\">\n",
       "  <thead>\n",
       "    <tr style=\"text-align: right;\">\n",
       "      <th></th>\n",
       "      <th>Habitantes</th>\n",
       "      <th>Capital</th>\n",
       "      <th>Densidad de población</th>\n",
       "    </tr>\n",
       "  </thead>\n",
       "  <tbody>\n",
       "    <tr>\n",
       "      <th>Shanghai</th>\n",
       "      <td>+14 millones</td>\n",
       "      <td>No</td>\n",
       "      <td>-20 mil hab/km2</td>\n",
       "    </tr>\n",
       "    <tr>\n",
       "      <th>Beijing</th>\n",
       "      <td>+14 millones</td>\n",
       "      <td>Si</td>\n",
       "      <td>-20 mil hab/km2</td>\n",
       "    </tr>\n",
       "    <tr>\n",
       "      <th>Delhi</th>\n",
       "      <td>+14 millones</td>\n",
       "      <td>Si</td>\n",
       "      <td>+20 mil hab/km2</td>\n",
       "    </tr>\n",
       "    <tr>\n",
       "      <th>Estambul</th>\n",
       "      <td>+14 millones</td>\n",
       "      <td>No</td>\n",
       "      <td>-20 mil hab/km2</td>\n",
       "    </tr>\n",
       "    <tr>\n",
       "      <th>Karachi</th>\n",
       "      <td>+14 millones</td>\n",
       "      <td>No</td>\n",
       "      <td>-20 mil hab/km2</td>\n",
       "    </tr>\n",
       "    <tr>\n",
       "      <th>Guangzhou</th>\n",
       "      <td>+14 millones</td>\n",
       "      <td>No</td>\n",
       "      <td>-20 mil hab/km2</td>\n",
       "    </tr>\n",
       "    <tr>\n",
       "      <th>Kinshasa</th>\n",
       "      <td>+14 millones</td>\n",
       "      <td>Si</td>\n",
       "      <td>+20 mil hab/km2</td>\n",
       "    </tr>\n",
       "    <tr>\n",
       "      <th>Tokio</th>\n",
       "      <td>-14 millones</td>\n",
       "      <td>Si</td>\n",
       "      <td>+20 mil hab/km2</td>\n",
       "    </tr>\n",
       "    <tr>\n",
       "      <th>Moscow</th>\n",
       "      <td>-14 millones</td>\n",
       "      <td>Si</td>\n",
       "      <td>-20 mil hab/km2</td>\n",
       "    </tr>\n",
       "    <tr>\n",
       "      <th>Jakarta</th>\n",
       "      <td>-14 millones</td>\n",
       "      <td>Si</td>\n",
       "      <td>-20 mil hab/km2</td>\n",
       "    </tr>\n",
       "    <tr>\n",
       "      <th>Seoul</th>\n",
       "      <td>-14 millones</td>\n",
       "      <td>Si</td>\n",
       "      <td>-20 mil hab/km2</td>\n",
       "    </tr>\n",
       "    <tr>\n",
       "      <th>El Cairo</th>\n",
       "      <td>-14 millones</td>\n",
       "      <td>Si</td>\n",
       "      <td>+20 mil hab/km2</td>\n",
       "    </tr>\n",
       "  </tbody>\n",
       "</table>\n",
       "</div>"
      ],
      "text/plain": [
       "             Habitantes Capital Densidad de población\n",
       "Shanghai   +14 millones      No       -20 mil hab/km2\n",
       "Beijing    +14 millones      Si       -20 mil hab/km2\n",
       "Delhi      +14 millones      Si       +20 mil hab/km2\n",
       "Estambul   +14 millones      No       -20 mil hab/km2\n",
       "Karachi    +14 millones      No       -20 mil hab/km2\n",
       "Guangzhou  +14 millones      No       -20 mil hab/km2\n",
       "Kinshasa   +14 millones      Si       +20 mil hab/km2\n",
       "Tokio      -14 millones      Si       +20 mil hab/km2\n",
       "Moscow     -14 millones      Si       -20 mil hab/km2\n",
       "Jakarta    -14 millones      Si       -20 mil hab/km2\n",
       "Seoul      -14 millones      Si       -20 mil hab/km2\n",
       "El Cairo   -14 millones      Si       +20 mil hab/km2"
      ]
     },
     "execution_count": 1,
     "metadata": {},
     "output_type": "execute_result"
    }
   ],
   "source": [
    "import pandas as pd\n",
    "\n",
    "datos = [[\"+14 millones\", \"No\", \"-20 mil hab/km2\"], \n",
    "        [\"+14 millones\", \"Si\", \"-20 mil hab/km2\"], \n",
    "        [\"+14 millones\", \"Si\", \"+20 mil hab/km2\"], \n",
    "        [\"+14 millones\", \"No\", \"-20 mil hab/km2\"], \n",
    "        [\"+14 millones\", \"No\", \"-20 mil hab/km2\"],\n",
    "        [\"+14 millones\", \"No\", \"-20 mil hab/km2\"], \n",
    "        [\"+14 millones\", \"Si\", \"+20 mil hab/km2\"], \n",
    "        [\"-14 millones\", \"Si\", \"+20 mil hab/km2\"], \n",
    "        [\"-14 millones\", \"Si\", \"-20 mil hab/km2\"], \n",
    "        [\"-14 millones\", \"Si\", \"-20 mil hab/km2\"], \n",
    "        [\"-14 millones\", \"Si\", \"-20 mil hab/km2\"], \n",
    "        [\"-14 millones\", \"Si\", \"+20 mil hab/km2\"]] \n",
    "\n",
    "ciudades_df = pd.DataFrame(datos, columns = [\"Habitantes\", \"Capital\", \"Densidad de población\"], \n",
    "        index = [\"Shanghai\", \"Beijing\", \"Delhi\", \"Estambul\", \"Karachi\", \"Guangzhou\", \"Kinshasa\", \"Tokio\", \"Moscow\", \"Jakarta\", \"Seoul\", \"El Cairo\"])\n",
    "\n",
    "ciudades_df"
   ]
  },
  {
   "cell_type": "code",
   "execution_count": 2,
   "metadata": {},
   "outputs": [
    {
     "name": "stdout",
     "output_type": "stream",
     "text": [
      "          Habitantes Capital Densidad de población\n",
      "count             12      12                    12\n",
      "unique             2       2                     2\n",
      "top     +14 millones      Si       -20 mil hab/km2\n",
      "freq               7       8                     8\n",
      "Tenemos datos de 12 ciudades\n"
     ]
    }
   ],
   "source": [
    "# Respuesta\n",
    "\n",
    "from itertools import count\n",
    "\n",
    "info = ciudades_df.describe()\n",
    "\n",
    "print(info)\n",
    "\n",
    "cant_ciudades = info[\"Habitantes\"][0]\n",
    "\n",
    "print(f\"Tenemos datos de {cant_ciudades} ciudades\")\n"
   ]
  },
  {
   "cell_type": "markdown",
   "metadata": {},
   "source": [
    "1.2. ¿Cuántas ciudades tienen más de 14 millones de habitantes y una densidad de población por encima de los 20.000 habitantes por $ km ^ 2 $?\n"
   ]
  },
  {
   "cell_type": "code",
   "execution_count": 3,
   "metadata": {},
   "outputs": [
    {
     "name": "stdout",
     "output_type": "stream",
     "text": [
      "2 ciudades tienen más de 14 millones de habitantes y una densidad de población de más de 20 mil habitantes por km2\n"
     ]
    }
   ],
   "source": [
    "# Respuesta\n",
    "\n",
    "mas_14_mas_20 = ciudades_df[(ciudades_df[\"Habitantes\"] == \"+14 millones\") & (ciudades_df[\"Densidad de población\"] == \"+20 mil hab/km2\")]\n",
    "\n",
    "print(f\"{len(mas_14_mas_20)} ciudades tienen más de 14 millones de habitantes y una densidad de población de más de 20 mil habitantes por km2\")"
   ]
  },
  {
   "cell_type": "markdown",
   "metadata": {},
   "source": [
    "1.3. ¿Qué ciudades tienen una densidad de población por encima de los 20.000 habitantes por $ km ^ 2 $ pero no más de 14 millones de habitantes?\n"
   ]
  },
  {
   "cell_type": "code",
   "execution_count": 4,
   "metadata": {},
   "outputs": [
    {
     "name": "stdout",
     "output_type": "stream",
     "text": [
      "2 ciudades tienen más de 14 millones de habitantes y una densidad de población de más de 20 mil habitantes por km2\n"
     ]
    }
   ],
   "source": [
    "# Respuesta\n",
    "\n",
    "menos_14_mas_20 = ciudades_df[(ciudades_df[\"Habitantes\"] == \"-14 millones\") & (ciudades_df[\"Densidad de población\"] == \"+20 mil hab/km2\")]\n",
    "\n",
    "print(f\"{len(menos_14_mas_20)} ciudades tienen más de 14 millones de habitantes y una densidad de población de más de 20 mil habitantes por km2\")"
   ]
  },
  {
   "cell_type": "code",
   "execution_count": 5,
   "metadata": {},
   "outputs": [
    {
     "data": {
      "text/html": [
       "<div>\n",
       "<style scoped>\n",
       "    .dataframe tbody tr th:only-of-type {\n",
       "        vertical-align: middle;\n",
       "    }\n",
       "\n",
       "    .dataframe tbody tr th {\n",
       "        vertical-align: top;\n",
       "    }\n",
       "\n",
       "    .dataframe thead th {\n",
       "        text-align: right;\n",
       "    }\n",
       "</style>\n",
       "<table border=\"1\" class=\"dataframe\">\n",
       "  <thead>\n",
       "    <tr style=\"text-align: right;\">\n",
       "      <th></th>\n",
       "      <th>Habitantes</th>\n",
       "      <th>Capital</th>\n",
       "      <th>Densidad de población</th>\n",
       "    </tr>\n",
       "  </thead>\n",
       "  <tbody>\n",
       "    <tr>\n",
       "      <th>Tokio</th>\n",
       "      <td>-14 millones</td>\n",
       "      <td>Si</td>\n",
       "      <td>+20 mil hab/km2</td>\n",
       "    </tr>\n",
       "    <tr>\n",
       "      <th>El Cairo</th>\n",
       "      <td>-14 millones</td>\n",
       "      <td>Si</td>\n",
       "      <td>+20 mil hab/km2</td>\n",
       "    </tr>\n",
       "  </tbody>\n",
       "</table>\n",
       "</div>"
      ],
      "text/plain": [
       "            Habitantes Capital Densidad de población\n",
       "Tokio     -14 millones      Si       +20 mil hab/km2\n",
       "El Cairo  -14 millones      Si       +20 mil hab/km2"
      ]
     },
     "execution_count": 5,
     "metadata": {},
     "output_type": "execute_result"
    }
   ],
   "source": [
    "menos_14_mas_20"
   ]
  },
  {
   "cell_type": "markdown",
   "metadata": {},
   "source": [
    "1.4. ¿Cuál es el país con mayor número de ciudades por encima de 14 millones de habitantes? ¿Cuántas ciudades de estas características hay en cada país?\n",
    "\n",
    "Para responder a estas preguntas, nos faltará añadir información al conjunto de datos de ciudades disponible para realizar la actividad. Pensad cuál sería la estructura de datos más adecuada para almacenar esta información extra y calcular la respuesta a la pregunta planteada.\n"
   ]
  },
  {
   "cell_type": "code",
   "execution_count": 6,
   "metadata": {},
   "outputs": [
    {
     "data": {
      "text/html": [
       "<div>\n",
       "<style scoped>\n",
       "    .dataframe tbody tr th:only-of-type {\n",
       "        vertical-align: middle;\n",
       "    }\n",
       "\n",
       "    .dataframe tbody tr th {\n",
       "        vertical-align: top;\n",
       "    }\n",
       "\n",
       "    .dataframe thead th {\n",
       "        text-align: right;\n",
       "    }\n",
       "</style>\n",
       "<table border=\"1\" class=\"dataframe\">\n",
       "  <thead>\n",
       "    <tr style=\"text-align: right;\">\n",
       "      <th></th>\n",
       "      <th>Habitantes</th>\n",
       "      <th>Capital</th>\n",
       "      <th>Densidad de población</th>\n",
       "      <th>Países</th>\n",
       "    </tr>\n",
       "  </thead>\n",
       "  <tbody>\n",
       "    <tr>\n",
       "      <th>Shanghai</th>\n",
       "      <td>+14 millones</td>\n",
       "      <td>No</td>\n",
       "      <td>-20 mil hab/km2</td>\n",
       "      <td>China</td>\n",
       "    </tr>\n",
       "    <tr>\n",
       "      <th>Beijing</th>\n",
       "      <td>+14 millones</td>\n",
       "      <td>Si</td>\n",
       "      <td>-20 mil hab/km2</td>\n",
       "      <td>China</td>\n",
       "    </tr>\n",
       "    <tr>\n",
       "      <th>Delhi</th>\n",
       "      <td>+14 millones</td>\n",
       "      <td>Si</td>\n",
       "      <td>+20 mil hab/km2</td>\n",
       "      <td>India</td>\n",
       "    </tr>\n",
       "    <tr>\n",
       "      <th>Estambul</th>\n",
       "      <td>+14 millones</td>\n",
       "      <td>No</td>\n",
       "      <td>-20 mil hab/km2</td>\n",
       "      <td>Turquía</td>\n",
       "    </tr>\n",
       "    <tr>\n",
       "      <th>Karachi</th>\n",
       "      <td>+14 millones</td>\n",
       "      <td>No</td>\n",
       "      <td>-20 mil hab/km2</td>\n",
       "      <td>Pakistán</td>\n",
       "    </tr>\n",
       "    <tr>\n",
       "      <th>Guangzhou</th>\n",
       "      <td>+14 millones</td>\n",
       "      <td>No</td>\n",
       "      <td>-20 mil hab/km2</td>\n",
       "      <td>China</td>\n",
       "    </tr>\n",
       "    <tr>\n",
       "      <th>Kinshasa</th>\n",
       "      <td>+14 millones</td>\n",
       "      <td>Si</td>\n",
       "      <td>+20 mil hab/km2</td>\n",
       "      <td>Congo</td>\n",
       "    </tr>\n",
       "    <tr>\n",
       "      <th>Tokio</th>\n",
       "      <td>-14 millones</td>\n",
       "      <td>Si</td>\n",
       "      <td>+20 mil hab/km2</td>\n",
       "      <td>Japón</td>\n",
       "    </tr>\n",
       "    <tr>\n",
       "      <th>Moscow</th>\n",
       "      <td>-14 millones</td>\n",
       "      <td>Si</td>\n",
       "      <td>-20 mil hab/km2</td>\n",
       "      <td>Rusia</td>\n",
       "    </tr>\n",
       "    <tr>\n",
       "      <th>Jakarta</th>\n",
       "      <td>-14 millones</td>\n",
       "      <td>Si</td>\n",
       "      <td>-20 mil hab/km2</td>\n",
       "      <td>Indonesia</td>\n",
       "    </tr>\n",
       "    <tr>\n",
       "      <th>Seoul</th>\n",
       "      <td>-14 millones</td>\n",
       "      <td>Si</td>\n",
       "      <td>-20 mil hab/km2</td>\n",
       "      <td>Corea del Sur</td>\n",
       "    </tr>\n",
       "    <tr>\n",
       "      <th>El Cairo</th>\n",
       "      <td>-14 millones</td>\n",
       "      <td>Si</td>\n",
       "      <td>+20 mil hab/km2</td>\n",
       "      <td>Egipto</td>\n",
       "    </tr>\n",
       "  </tbody>\n",
       "</table>\n",
       "</div>"
      ],
      "text/plain": [
       "             Habitantes Capital Densidad de población         Países\n",
       "Shanghai   +14 millones      No       -20 mil hab/km2          China\n",
       "Beijing    +14 millones      Si       -20 mil hab/km2          China\n",
       "Delhi      +14 millones      Si       +20 mil hab/km2          India\n",
       "Estambul   +14 millones      No       -20 mil hab/km2        Turquía\n",
       "Karachi    +14 millones      No       -20 mil hab/km2       Pakistán\n",
       "Guangzhou  +14 millones      No       -20 mil hab/km2          China\n",
       "Kinshasa   +14 millones      Si       +20 mil hab/km2          Congo\n",
       "Tokio      -14 millones      Si       +20 mil hab/km2          Japón\n",
       "Moscow     -14 millones      Si       -20 mil hab/km2          Rusia\n",
       "Jakarta    -14 millones      Si       -20 mil hab/km2      Indonesia\n",
       "Seoul      -14 millones      Si       -20 mil hab/km2  Corea del Sur\n",
       "El Cairo   -14 millones      Si       +20 mil hab/km2         Egipto"
      ]
     },
     "execution_count": 6,
     "metadata": {},
     "output_type": "execute_result"
    }
   ],
   "source": [
    "# Respuesta\n",
    "\n",
    "dicc_paises = {\"Shanghai\":\"China\", \"Beijing\":\"China\", \"Delhi\": \"India\", \"Estambul\":\"Turquía\", \"Karachi\":\"Pakistán\", \"Guangzhou\":\"China\", \"Kinshasa\":\"Congo\", \"Tokio\":\"Japón\", \"Moscow\":\"Rusia\", \"Jakarta\":\"Indonesia\", \"Seoul\":\"Corea del Sur\", \"El Cairo\":\"Egipto\"}\n",
    "\n",
    "ciudades_df[\"Países\"] = dicc_paises\n",
    "\n",
    "ciudades_df"
   ]
  },
  {
   "cell_type": "code",
   "execution_count": 7,
   "metadata": {},
   "outputs": [
    {
     "name": "stdout",
     "output_type": "stream",
     "text": [
      "China 3\n",
      "Congo 1\n",
      "Corea del Sur 1\n",
      "Egipto 1\n",
      "India 1\n",
      "Indonesia 1\n",
      "Japón 1\n",
      "Pakistán 1\n",
      "Rusia 1\n",
      "Turquía 1\n"
     ]
    },
    {
     "name": "stderr",
     "output_type": "stream",
     "text": [
      "C:\\Users\\Usuario\\AppData\\Local\\Temp\\ipykernel_540\\669143486.py:2: FutureWarning: In a future version of pandas, a length 1 tuple will be returned when iterating over a groupby with a grouper equal to a list of length 1. Don't supply a list with a single grouper to avoid this warning.\n",
      "  for n, g in grouped:\n"
     ]
    }
   ],
   "source": [
    "grouped = ciudades_df.groupby([\"Países\"])\n",
    "for n, g in grouped:\n",
    "    print(n,len(g))"
   ]
  },
  {
   "cell_type": "code",
   "execution_count": 8,
   "metadata": {},
   "outputs": [
    {
     "data": {
      "text/html": [
       "<div>\n",
       "<style scoped>\n",
       "    .dataframe tbody tr th:only-of-type {\n",
       "        vertical-align: middle;\n",
       "    }\n",
       "\n",
       "    .dataframe tbody tr th {\n",
       "        vertical-align: top;\n",
       "    }\n",
       "\n",
       "    .dataframe thead th {\n",
       "        text-align: right;\n",
       "    }\n",
       "</style>\n",
       "<table border=\"1\" class=\"dataframe\">\n",
       "  <thead>\n",
       "    <tr style=\"text-align: right;\">\n",
       "      <th></th>\n",
       "      <th>Habitantes</th>\n",
       "      <th>Países</th>\n",
       "    </tr>\n",
       "  </thead>\n",
       "  <tbody>\n",
       "    <tr>\n",
       "      <th>Shanghai</th>\n",
       "      <td>+14 millones</td>\n",
       "      <td>China</td>\n",
       "    </tr>\n",
       "    <tr>\n",
       "      <th>Beijing</th>\n",
       "      <td>+14 millones</td>\n",
       "      <td>China</td>\n",
       "    </tr>\n",
       "    <tr>\n",
       "      <th>Delhi</th>\n",
       "      <td>+14 millones</td>\n",
       "      <td>India</td>\n",
       "    </tr>\n",
       "    <tr>\n",
       "      <th>Estambul</th>\n",
       "      <td>+14 millones</td>\n",
       "      <td>Turquía</td>\n",
       "    </tr>\n",
       "    <tr>\n",
       "      <th>Karachi</th>\n",
       "      <td>+14 millones</td>\n",
       "      <td>Pakistán</td>\n",
       "    </tr>\n",
       "    <tr>\n",
       "      <th>Guangzhou</th>\n",
       "      <td>+14 millones</td>\n",
       "      <td>China</td>\n",
       "    </tr>\n",
       "    <tr>\n",
       "      <th>Kinshasa</th>\n",
       "      <td>+14 millones</td>\n",
       "      <td>Congo</td>\n",
       "    </tr>\n",
       "    <tr>\n",
       "      <th>Tokio</th>\n",
       "      <td>-14 millones</td>\n",
       "      <td>Japón</td>\n",
       "    </tr>\n",
       "    <tr>\n",
       "      <th>Moscow</th>\n",
       "      <td>-14 millones</td>\n",
       "      <td>Rusia</td>\n",
       "    </tr>\n",
       "    <tr>\n",
       "      <th>Jakarta</th>\n",
       "      <td>-14 millones</td>\n",
       "      <td>Indonesia</td>\n",
       "    </tr>\n",
       "    <tr>\n",
       "      <th>Seoul</th>\n",
       "      <td>-14 millones</td>\n",
       "      <td>Corea del Sur</td>\n",
       "    </tr>\n",
       "    <tr>\n",
       "      <th>El Cairo</th>\n",
       "      <td>-14 millones</td>\n",
       "      <td>Egipto</td>\n",
       "    </tr>\n",
       "  </tbody>\n",
       "</table>\n",
       "</div>"
      ],
      "text/plain": [
       "             Habitantes         Países\n",
       "Shanghai   +14 millones          China\n",
       "Beijing    +14 millones          China\n",
       "Delhi      +14 millones          India\n",
       "Estambul   +14 millones        Turquía\n",
       "Karachi    +14 millones       Pakistán\n",
       "Guangzhou  +14 millones          China\n",
       "Kinshasa   +14 millones          Congo\n",
       "Tokio      -14 millones          Japón\n",
       "Moscow     -14 millones          Rusia\n",
       "Jakarta    -14 millones      Indonesia\n",
       "Seoul      -14 millones  Corea del Sur\n",
       "El Cairo   -14 millones         Egipto"
      ]
     },
     "execution_count": 8,
     "metadata": {},
     "output_type": "execute_result"
    }
   ],
   "source": [
    "ciudades_df[['Habitantes', 'Países']]"
   ]
  },
  {
   "cell_type": "code",
   "execution_count": 9,
   "metadata": {},
   "outputs": [
    {
     "name": "stdout",
     "output_type": "stream",
     "text": [
      "The country with more citis with more that 14 mill of population is China with 3 cities\n"
     ]
    }
   ],
   "source": [
    "ciudades_more_14 = ciudades_df[(ciudades_df[\"Habitantes\"] == \"+14 millones\")]\n",
    "\n",
    "ciudades_more_14 \n",
    "\n",
    "grouped = ciudades_more_14 .groupby([\"Países\"]).size()\n",
    "\n",
    "data = grouped.reset_index()\n",
    "\n",
    "data.sort_index()\n",
    "\n",
    "first = data[\"Países\"][0]\n",
    "\n",
    "first_number = max(ciudades_more_14.value_counts(\"Países\"))\n",
    "\n",
    "print(f\"The country with more citis with more that 14 mill of population is {first} with {first_number} cities\")"
   ]
  },
  {
   "cell_type": "markdown",
   "metadata": {},
   "source": [
    "1.5. ¿Cuáles son los dos países adyacentes que tienen el mayor número de ciudades por encima de 14 millones de habitantes?\n",
    "\n",
    "Para responder a esta pregunta, nos faltará añadir más información al conjunto de datos de ciudades disponible para realizar la actividad. De nuevo, pensad cuál sería la estructura de datos más adecuada para almacenar esta información extra y calcular la respuesta a la pregunta planteada.\n",
    "\n"
   ]
  },
  {
   "cell_type": "code",
   "execution_count": 10,
   "metadata": {},
   "outputs": [],
   "source": [
    "# Respuesta"
   ]
  },
  {
   "cell_type": "markdown",
   "metadata": {},
   "source": [
    "2. Calculad cuántas horas ha trabajado la persona que ha escrito la siguiente frase:\n",
    "\n",
    "\"I started working at 17:22:42 and finished at 22:00:00\"\n",
    "\n"
   ]
  },
  {
   "cell_type": "code",
   "execution_count": 11,
   "metadata": {},
   "outputs": [
    {
     "name": "stdout",
     "output_type": "stream",
     "text": [
      "Juan worked 4:37:18 hours\n"
     ]
    }
   ],
   "source": [
    "import datetime\n",
    "\n",
    "sentence = \"I started working at 17:22:42 and finished at 22:00:00\"\n",
    "\n",
    "sentence_list = sentence.split()\n",
    "\n",
    "date1_str = sentence_list[4]\n",
    "date2_str = sentence_list[8]\n",
    "\n",
    "date_1 = datetime.datetime.strptime(date1_str, \"%H:%M:%S\")\n",
    "date_2 = datetime.datetime.strptime(date2_str, \"%H:%M:%S\")\n",
    "\n",
    "\n",
    "diff = date_2 - date_1\n",
    "\n",
    "print(f\"Juan worked {diff} hours\")\n",
    "\n",
    "# Respuesta"
   ]
  },
  {
   "cell_type": "markdown",
   "metadata": {},
   "source": [
    "3. Dada la cadena de caracteres `sentence`, reemplazad todos los espacios en blanco por puntos.\n"
   ]
  },
  {
   "cell_type": "code",
   "execution_count": 12,
   "metadata": {},
   "outputs": [
    {
     "data": {
      "text/plain": [
       "'.From.....time.to.time,.Python.makes..an....incompatible.change..to.the...advertised.semantics.of.core.language.constructs...'"
      ]
     },
     "execution_count": 12,
     "metadata": {},
     "output_type": "execute_result"
    }
   ],
   "source": [
    "sentence = \" From     time to time, Python makes  an    incompatible change \" \\\n",
    "    \" to the   advertised semantics of core language constructs   \"\n",
    "\n",
    "# Respuesta\n",
    "\n",
    "sentence_2 = sentence.replace(\" \", \".\")\n",
    "\n",
    "sentence_2"
   ]
  },
  {
   "cell_type": "markdown",
   "metadata": {},
   "source": [
    "4. Dada la misma cadena de caracteres del ejercicio anterior, reemplazad todos los espacios en blanco contiguos por un único punto. Es decir, si encontráis tres espacios en blanco consecutivos, estos se deben reemplazar por un único punto, y no por tres puntos como implementábamos en el ejercicio anterior. Eliminad los espacios que se encuentran al inicio y al final de la cadena antes de sustituirlos por puntos.\n"
   ]
  },
  {
   "cell_type": "code",
   "execution_count": 13,
   "metadata": {},
   "outputs": [
    {
     "data": {
      "text/plain": [
       "'From.time.to.time,.Python.makes.an.incompatible.change.to.the.advertised.semantics.of.core.language.constructs'"
      ]
     },
     "execution_count": 13,
     "metadata": {},
     "output_type": "execute_result"
    }
   ],
   "source": [
    "# Respuesta\n",
    "\n",
    "sentence_list = sentence.split()\n",
    "\n",
    "sentence_joined = \".\".join(sentence_list)\n",
    "\n",
    "sentence_joined\n"
   ]
  },
  {
   "cell_type": "markdown",
   "metadata": {},
   "source": [
    "5. Proporcionad una lista con todas las palabras de cuatro letras de la cadena de caracteres `sentence` que empiecen por `t` o `F`.\n"
   ]
  },
  {
   "cell_type": "code",
   "execution_count": 14,
   "metadata": {},
   "outputs": [
    {
     "name": "stdout",
     "output_type": "stream",
     "text": [
      "['From', 'time']\n"
     ]
    }
   ],
   "source": [
    "# Respuesta\n",
    "\n",
    "lista_5 = []\n",
    "\n",
    "for i in sentence_list:\n",
    "    if len(i) == 4 and i[0] == \"t\" or i[0] == \"F\":\n",
    "        lista_5. append(i)\n",
    "\n",
    "print(lista_5)"
   ]
  },
  {
   "cell_type": "markdown",
   "metadata": {},
   "source": [
    "6. Reemplazad todas las mayúsculas de la cadena `sentence` por interrogantes.\n"
   ]
  },
  {
   "cell_type": "code",
   "execution_count": 15,
   "metadata": {},
   "outputs": [
    {
     "data": {
      "text/plain": [
       "' ?rom     time to time, ?ython makes  an    incompatible change  to the   advertised semantics of core language constructs   '"
      ]
     },
     "execution_count": 15,
     "metadata": {},
     "output_type": "execute_result"
    }
   ],
   "source": [
    "# Respuesta\n",
    "\n",
    "import copy\n",
    "\n",
    "sentence_6 = copy.copy(sentence)\n",
    "\n",
    "for i in sentence_6:\n",
    "    if i.isupper() == True:\n",
    "        sentence_6 = sentence_6.replace(i , \"?\")\n",
    "\n",
    "sentence_6 "
   ]
  },
  {
   "cell_type": "markdown",
   "metadata": {},
   "source": [
    "7. Una aerolínea nos contrata para ayudarla a optimizar el procedimiento de embarque de sus aviones. La aerolínea dispone de tres clases de billetes: primera, *business* y turista. A la hora de embarcar, los clientes se sitúan en tres colas, una para cada clase. Después, sin embargo, solo hay dos azafatas que les validen la tarjeta de embarque, por lo que las tres colas iniciales se convierten en dos, a partir de las cuales los pasajeros acceden a los aviones.\n",
    "\n",
    "Actualmente, la aerolínea utiliza la siguiente estrategia para convertir las tres colas iniciales (por clase) en las dos colas que embarcan (una por cada azafata):\n",
    "\n",
    "Por un lado, los clientes de primera y *business* van a parar a la cola 1 (cola prioritaria), intercalando un cliente de cada tipo en la cola prioritaria siempre que haya suficientes clientes para hacerlo, y asignando después todos los clientes restantes a la nueva cola. Así, el primer cliente que se asigna a la cola prioritaria es el primer cliente de la clase primera, el segundo cliente de la cola prioritaria será el primer cliente de la cola de *business*, el tercer cliente de la cola prioritaria será el segundo cliente de la clase primera, etc.\n",
    "\n",
    "Por otra parte, los clientes de clase turista van a parar a la cola 2 (cola no prioritaria), siguiendo el orden que tenían en la cola de la clase turista. Ahora bien, si un cliente de clase turista tiene movilidad reducida o va acompañado de niños, entonces este se sitúa al frente de la cola prioritaria. Si hay más de un cliente en estas condiciones, el orden que siguen en la cola de la clase turista se mantiene.\n",
    "\n",
    "Para evaluar cómo de buena es la estrategia, la aerolínea utiliza dos métricas:\n",
    "1. El tiempo que se tarda en embarcar el avión es de 30 segundos por pasajero, considerando que las dos colas (1 y 2) embarcan a la vez. Es decir, si la cola 1 tiene un pasajero y la cola 2 tiene dos, se tardará un minuto en embarcar.\n",
    "2. La satisfacción global de sus clientes, que se calcula haciendo la media de la satisfacción de cada cliente, considerando que:\n"
   ]
  },
  {
   "cell_type": "markdown",
   "metadata": {},
   "source": [
    "* Los clientes de primera tienen una satisfacción de -25 veces el número de posiciones que han perdido en la cola prioritaria respecto a su posición original en la cola de primera. Es decir, un cliente que estaba en tercera posición en la cola de primera y que ocupa la quinta posición de la cola prioritaria, tendrá una satisfacción de -50.\n",
    "* Los clientes de *business* siempre tienen una satisfacción de 0.\n",
    "* Los clientes con billete de clase turista que han sido movidos a la cola prioritaria tienen una satisfacción de 100. En cambio, los que han sido movidos a la cola no prioritaria tienen una satisfacción de 25 si han avanzado alguna posición en la cola 2 respecto a su posición inicial en la cola de la clase turista, o de 0 en cualquier otro caso.\n",
    "\n",
    "Como analistas de datos, evaluaremos la satisfacción y el tiempo de embarque del avión del vuelo 714.\n"
   ]
  },
  {
   "cell_type": "markdown",
   "metadata": {},
   "source": [
    "7.1 Cargad los datos de los pasajeros del vuelo 714 que encontraréis en el dataset `data/flight714.csv` y cread las tres colas, primera, *business* y turista, con los datos de los pasajeros. Los clientes se encuentran ordenados según su posición en la cola, con la columna `client_class` indicando a cuál de las colas pertenecen.\n"
   ]
  },
  {
   "cell_type": "code",
   "execution_count": 16,
   "metadata": {},
   "outputs": [
    {
     "data": {
      "text/html": [
       "<div>\n",
       "<style scoped>\n",
       "    .dataframe tbody tr th:only-of-type {\n",
       "        vertical-align: middle;\n",
       "    }\n",
       "\n",
       "    .dataframe tbody tr th {\n",
       "        vertical-align: top;\n",
       "    }\n",
       "\n",
       "    .dataframe thead th {\n",
       "        text-align: right;\n",
       "    }\n",
       "</style>\n",
       "<table border=\"1\" class=\"dataframe\">\n",
       "  <thead>\n",
       "    <tr style=\"text-align: right;\">\n",
       "      <th></th>\n",
       "      <th>client_id</th>\n",
       "      <th>client_class</th>\n",
       "      <th>has_children</th>\n",
       "      <th>has_reduced_mobility</th>\n",
       "    </tr>\n",
       "  </thead>\n",
       "  <tbody>\n",
       "    <tr>\n",
       "      <th>0</th>\n",
       "      <td>1</td>\n",
       "      <td>p</td>\n",
       "      <td>0</td>\n",
       "      <td>0</td>\n",
       "    </tr>\n",
       "    <tr>\n",
       "      <th>1</th>\n",
       "      <td>2</td>\n",
       "      <td>p</td>\n",
       "      <td>0</td>\n",
       "      <td>0</td>\n",
       "    </tr>\n",
       "    <tr>\n",
       "      <th>2</th>\n",
       "      <td>3</td>\n",
       "      <td>p</td>\n",
       "      <td>0</td>\n",
       "      <td>0</td>\n",
       "    </tr>\n",
       "    <tr>\n",
       "      <th>3</th>\n",
       "      <td>4</td>\n",
       "      <td>b</td>\n",
       "      <td>0</td>\n",
       "      <td>0</td>\n",
       "    </tr>\n",
       "    <tr>\n",
       "      <th>4</th>\n",
       "      <td>5</td>\n",
       "      <td>b</td>\n",
       "      <td>0</td>\n",
       "      <td>0</td>\n",
       "    </tr>\n",
       "    <tr>\n",
       "      <th>5</th>\n",
       "      <td>6</td>\n",
       "      <td>b</td>\n",
       "      <td>0</td>\n",
       "      <td>0</td>\n",
       "    </tr>\n",
       "    <tr>\n",
       "      <th>6</th>\n",
       "      <td>7</td>\n",
       "      <td>b</td>\n",
       "      <td>0</td>\n",
       "      <td>0</td>\n",
       "    </tr>\n",
       "    <tr>\n",
       "      <th>7</th>\n",
       "      <td>8</td>\n",
       "      <td>b</td>\n",
       "      <td>0</td>\n",
       "      <td>0</td>\n",
       "    </tr>\n",
       "    <tr>\n",
       "      <th>8</th>\n",
       "      <td>9</td>\n",
       "      <td>b</td>\n",
       "      <td>0</td>\n",
       "      <td>0</td>\n",
       "    </tr>\n",
       "    <tr>\n",
       "      <th>9</th>\n",
       "      <td>10</td>\n",
       "      <td>b</td>\n",
       "      <td>0</td>\n",
       "      <td>0</td>\n",
       "    </tr>\n",
       "    <tr>\n",
       "      <th>10</th>\n",
       "      <td>11</td>\n",
       "      <td>b</td>\n",
       "      <td>0</td>\n",
       "      <td>0</td>\n",
       "    </tr>\n",
       "    <tr>\n",
       "      <th>11</th>\n",
       "      <td>12</td>\n",
       "      <td>b</td>\n",
       "      <td>0</td>\n",
       "      <td>0</td>\n",
       "    </tr>\n",
       "    <tr>\n",
       "      <th>12</th>\n",
       "      <td>13</td>\n",
       "      <td>b</td>\n",
       "      <td>0</td>\n",
       "      <td>0</td>\n",
       "    </tr>\n",
       "    <tr>\n",
       "      <th>13</th>\n",
       "      <td>14</td>\n",
       "      <td>t</td>\n",
       "      <td>0</td>\n",
       "      <td>0</td>\n",
       "    </tr>\n",
       "    <tr>\n",
       "      <th>14</th>\n",
       "      <td>15</td>\n",
       "      <td>t</td>\n",
       "      <td>1</td>\n",
       "      <td>0</td>\n",
       "    </tr>\n",
       "    <tr>\n",
       "      <th>15</th>\n",
       "      <td>16</td>\n",
       "      <td>t</td>\n",
       "      <td>0</td>\n",
       "      <td>0</td>\n",
       "    </tr>\n",
       "    <tr>\n",
       "      <th>16</th>\n",
       "      <td>17</td>\n",
       "      <td>t</td>\n",
       "      <td>1</td>\n",
       "      <td>0</td>\n",
       "    </tr>\n",
       "    <tr>\n",
       "      <th>17</th>\n",
       "      <td>18</td>\n",
       "      <td>t</td>\n",
       "      <td>0</td>\n",
       "      <td>0</td>\n",
       "    </tr>\n",
       "    <tr>\n",
       "      <th>18</th>\n",
       "      <td>19</td>\n",
       "      <td>t</td>\n",
       "      <td>0</td>\n",
       "      <td>0</td>\n",
       "    </tr>\n",
       "    <tr>\n",
       "      <th>19</th>\n",
       "      <td>20</td>\n",
       "      <td>t</td>\n",
       "      <td>0</td>\n",
       "      <td>0</td>\n",
       "    </tr>\n",
       "    <tr>\n",
       "      <th>20</th>\n",
       "      <td>21</td>\n",
       "      <td>t</td>\n",
       "      <td>0</td>\n",
       "      <td>0</td>\n",
       "    </tr>\n",
       "    <tr>\n",
       "      <th>21</th>\n",
       "      <td>22</td>\n",
       "      <td>t</td>\n",
       "      <td>0</td>\n",
       "      <td>0</td>\n",
       "    </tr>\n",
       "    <tr>\n",
       "      <th>22</th>\n",
       "      <td>23</td>\n",
       "      <td>t</td>\n",
       "      <td>0</td>\n",
       "      <td>0</td>\n",
       "    </tr>\n",
       "    <tr>\n",
       "      <th>23</th>\n",
       "      <td>24</td>\n",
       "      <td>t</td>\n",
       "      <td>0</td>\n",
       "      <td>0</td>\n",
       "    </tr>\n",
       "    <tr>\n",
       "      <th>24</th>\n",
       "      <td>25</td>\n",
       "      <td>t</td>\n",
       "      <td>0</td>\n",
       "      <td>0</td>\n",
       "    </tr>\n",
       "    <tr>\n",
       "      <th>25</th>\n",
       "      <td>26</td>\n",
       "      <td>t</td>\n",
       "      <td>0</td>\n",
       "      <td>0</td>\n",
       "    </tr>\n",
       "    <tr>\n",
       "      <th>26</th>\n",
       "      <td>27</td>\n",
       "      <td>t</td>\n",
       "      <td>0</td>\n",
       "      <td>0</td>\n",
       "    </tr>\n",
       "    <tr>\n",
       "      <th>27</th>\n",
       "      <td>28</td>\n",
       "      <td>t</td>\n",
       "      <td>0</td>\n",
       "      <td>0</td>\n",
       "    </tr>\n",
       "    <tr>\n",
       "      <th>28</th>\n",
       "      <td>29</td>\n",
       "      <td>t</td>\n",
       "      <td>0</td>\n",
       "      <td>0</td>\n",
       "    </tr>\n",
       "    <tr>\n",
       "      <th>29</th>\n",
       "      <td>30</td>\n",
       "      <td>t</td>\n",
       "      <td>0</td>\n",
       "      <td>0</td>\n",
       "    </tr>\n",
       "    <tr>\n",
       "      <th>30</th>\n",
       "      <td>31</td>\n",
       "      <td>t</td>\n",
       "      <td>1</td>\n",
       "      <td>0</td>\n",
       "    </tr>\n",
       "    <tr>\n",
       "      <th>31</th>\n",
       "      <td>32</td>\n",
       "      <td>t</td>\n",
       "      <td>0</td>\n",
       "      <td>0</td>\n",
       "    </tr>\n",
       "    <tr>\n",
       "      <th>32</th>\n",
       "      <td>33</td>\n",
       "      <td>t</td>\n",
       "      <td>0</td>\n",
       "      <td>0</td>\n",
       "    </tr>\n",
       "    <tr>\n",
       "      <th>33</th>\n",
       "      <td>34</td>\n",
       "      <td>t</td>\n",
       "      <td>0</td>\n",
       "      <td>0</td>\n",
       "    </tr>\n",
       "    <tr>\n",
       "      <th>34</th>\n",
       "      <td>35</td>\n",
       "      <td>t</td>\n",
       "      <td>0</td>\n",
       "      <td>0</td>\n",
       "    </tr>\n",
       "    <tr>\n",
       "      <th>35</th>\n",
       "      <td>36</td>\n",
       "      <td>t</td>\n",
       "      <td>0</td>\n",
       "      <td>1</td>\n",
       "    </tr>\n",
       "    <tr>\n",
       "      <th>36</th>\n",
       "      <td>37</td>\n",
       "      <td>t</td>\n",
       "      <td>0</td>\n",
       "      <td>0</td>\n",
       "    </tr>\n",
       "    <tr>\n",
       "      <th>37</th>\n",
       "      <td>38</td>\n",
       "      <td>t</td>\n",
       "      <td>0</td>\n",
       "      <td>0</td>\n",
       "    </tr>\n",
       "    <tr>\n",
       "      <th>38</th>\n",
       "      <td>39</td>\n",
       "      <td>t</td>\n",
       "      <td>0</td>\n",
       "      <td>0</td>\n",
       "    </tr>\n",
       "    <tr>\n",
       "      <th>39</th>\n",
       "      <td>40</td>\n",
       "      <td>t</td>\n",
       "      <td>0</td>\n",
       "      <td>1</td>\n",
       "    </tr>\n",
       "    <tr>\n",
       "      <th>40</th>\n",
       "      <td>41</td>\n",
       "      <td>t</td>\n",
       "      <td>0</td>\n",
       "      <td>0</td>\n",
       "    </tr>\n",
       "    <tr>\n",
       "      <th>41</th>\n",
       "      <td>42</td>\n",
       "      <td>t</td>\n",
       "      <td>0</td>\n",
       "      <td>0</td>\n",
       "    </tr>\n",
       "    <tr>\n",
       "      <th>42</th>\n",
       "      <td>43</td>\n",
       "      <td>t</td>\n",
       "      <td>0</td>\n",
       "      <td>0</td>\n",
       "    </tr>\n",
       "    <tr>\n",
       "      <th>43</th>\n",
       "      <td>44</td>\n",
       "      <td>t</td>\n",
       "      <td>0</td>\n",
       "      <td>0</td>\n",
       "    </tr>\n",
       "    <tr>\n",
       "      <th>44</th>\n",
       "      <td>45</td>\n",
       "      <td>t</td>\n",
       "      <td>0</td>\n",
       "      <td>0</td>\n",
       "    </tr>\n",
       "    <tr>\n",
       "      <th>45</th>\n",
       "      <td>46</td>\n",
       "      <td>t</td>\n",
       "      <td>0</td>\n",
       "      <td>0</td>\n",
       "    </tr>\n",
       "    <tr>\n",
       "      <th>46</th>\n",
       "      <td>47</td>\n",
       "      <td>t</td>\n",
       "      <td>1</td>\n",
       "      <td>1</td>\n",
       "    </tr>\n",
       "    <tr>\n",
       "      <th>47</th>\n",
       "      <td>48</td>\n",
       "      <td>t</td>\n",
       "      <td>0</td>\n",
       "      <td>0</td>\n",
       "    </tr>\n",
       "    <tr>\n",
       "      <th>48</th>\n",
       "      <td>49</td>\n",
       "      <td>t</td>\n",
       "      <td>0</td>\n",
       "      <td>0</td>\n",
       "    </tr>\n",
       "    <tr>\n",
       "      <th>49</th>\n",
       "      <td>50</td>\n",
       "      <td>t</td>\n",
       "      <td>0</td>\n",
       "      <td>0</td>\n",
       "    </tr>\n",
       "  </tbody>\n",
       "</table>\n",
       "</div>"
      ],
      "text/plain": [
       "    client_id client_class  has_children  has_reduced_mobility\n",
       "0           1            p             0                     0\n",
       "1           2            p             0                     0\n",
       "2           3            p             0                     0\n",
       "3           4            b             0                     0\n",
       "4           5            b             0                     0\n",
       "5           6            b             0                     0\n",
       "6           7            b             0                     0\n",
       "7           8            b             0                     0\n",
       "8           9            b             0                     0\n",
       "9          10            b             0                     0\n",
       "10         11            b             0                     0\n",
       "11         12            b             0                     0\n",
       "12         13            b             0                     0\n",
       "13         14            t             0                     0\n",
       "14         15            t             1                     0\n",
       "15         16            t             0                     0\n",
       "16         17            t             1                     0\n",
       "17         18            t             0                     0\n",
       "18         19            t             0                     0\n",
       "19         20            t             0                     0\n",
       "20         21            t             0                     0\n",
       "21         22            t             0                     0\n",
       "22         23            t             0                     0\n",
       "23         24            t             0                     0\n",
       "24         25            t             0                     0\n",
       "25         26            t             0                     0\n",
       "26         27            t             0                     0\n",
       "27         28            t             0                     0\n",
       "28         29            t             0                     0\n",
       "29         30            t             0                     0\n",
       "30         31            t             1                     0\n",
       "31         32            t             0                     0\n",
       "32         33            t             0                     0\n",
       "33         34            t             0                     0\n",
       "34         35            t             0                     0\n",
       "35         36            t             0                     1\n",
       "36         37            t             0                     0\n",
       "37         38            t             0                     0\n",
       "38         39            t             0                     0\n",
       "39         40            t             0                     1\n",
       "40         41            t             0                     0\n",
       "41         42            t             0                     0\n",
       "42         43            t             0                     0\n",
       "43         44            t             0                     0\n",
       "44         45            t             0                     0\n",
       "45         46            t             0                     0\n",
       "46         47            t             1                     1\n",
       "47         48            t             0                     0\n",
       "48         49            t             0                     0\n",
       "49         50            t             0                     0"
      ]
     },
     "execution_count": 16,
     "metadata": {},
     "output_type": "execute_result"
    }
   ],
   "source": [
    "import pandas as pd\n",
    "\n",
    "datos = pd.read_csv(\"flight714.csv\")\n",
    "\n",
    "datos_df = pd.DataFrame(datos)\n",
    "\n",
    "datos_df\n"
   ]
  },
  {
   "cell_type": "code",
   "execution_count": 17,
   "metadata": {},
   "outputs": [
    {
     "name": "stdout",
     "output_type": "stream",
     "text": [
      "   client_id client_class  has_children  has_reduced_mobility\n",
      "0          1            p             0                     0\n",
      "1          2            p             0                     0\n",
      "2          3            p             0                     0\n",
      "   client_id client_class  has_children  has_reduced_mobility\n",
      "0          4            b             0                     0\n",
      "1          5            b             0                     0\n",
      "2          6            b             0                     0\n",
      "3          7            b             0                     0\n",
      "4          8            b             0                     0\n",
      "5          9            b             0                     0\n",
      "6         10            b             0                     0\n",
      "7         11            b             0                     0\n",
      "8         12            b             0                     0\n",
      "9         13            b             0                     0\n",
      "    client_id client_class  has_children  has_reduced_mobility\n",
      "0          14            t             0                     0\n",
      "1          15            t             1                     0\n",
      "2          16            t             0                     0\n",
      "3          17            t             1                     0\n",
      "4          18            t             0                     0\n",
      "5          19            t             0                     0\n",
      "6          20            t             0                     0\n",
      "7          21            t             0                     0\n",
      "8          22            t             0                     0\n",
      "9          23            t             0                     0\n",
      "10         24            t             0                     0\n",
      "11         25            t             0                     0\n",
      "12         26            t             0                     0\n",
      "13         27            t             0                     0\n",
      "14         28            t             0                     0\n",
      "15         29            t             0                     0\n",
      "16         30            t             0                     0\n",
      "17         31            t             1                     0\n",
      "18         32            t             0                     0\n",
      "19         33            t             0                     0\n",
      "20         34            t             0                     0\n",
      "21         35            t             0                     0\n",
      "22         36            t             0                     1\n",
      "23         37            t             0                     0\n",
      "24         38            t             0                     0\n",
      "25         39            t             0                     0\n",
      "26         40            t             0                     1\n",
      "27         41            t             0                     0\n",
      "28         42            t             0                     0\n",
      "29         43            t             0                     0\n",
      "30         44            t             0                     0\n",
      "31         45            t             0                     0\n",
      "32         46            t             0                     0\n",
      "33         47            t             1                     1\n",
      "34         48            t             0                     0\n",
      "35         49            t             0                     0\n",
      "36         50            t             0                     0\n"
     ]
    }
   ],
   "source": [
    "p = datos_df[\"client_class\"] == \"p\"\n",
    "b = datos_df[\"client_class\"] == \"b\"\n",
    "t = datos_df[\"client_class\"] == \"t\"\n",
    "\n",
    "df_p = datos_df[p].reset_index(drop=True)\n",
    "df_b = datos_df[b].reset_index(drop=True)\n",
    "df_t = datos_df[t].reset_index(drop=True)\n",
    "\n",
    "print(df_p)\n",
    "print(df_b)\n",
    "print(df_t)\n"
   ]
  },
  {
   "cell_type": "code",
   "execution_count": 18,
   "metadata": {},
   "outputs": [],
   "source": [
    "cola_1 = []\n",
    "cola_2 = []\n",
    "def funcion_filas():\n",
    "    i = 0\n",
    "    j = 0 \n",
    "    k = 0\n",
    "    while i <= len(df_p)-1:\n",
    "        cola_1.append(df_p[\"client_id\"][i])\n",
    "        i += 1\n",
    "        cola_1.append(df_b[\"client_id\"][j])\n",
    "        j += 1   \n",
    "        if i > len(df_p)-1:\n",
    "            while j <= len(df_b)-1:\n",
    "                cola_1.append(df_b[\"client_id\"][j])\n",
    "                j += 1\n",
    "    while k <= len(df_t)-1:\n",
    "        if df_t[\"has_children\"][k] == 1 or df_t[\"has_reduced_mobility\"][k] == 1:\n",
    "            cola_1.insert(0, df_t[\"client_id\"][k])\n",
    "            k += 1\n",
    "        else:\n",
    "            cola_2.append(df_t[\"client_id\"][k])\n",
    "            k += 1\n",
    "    print(cola_1)\n",
    "    print(cola_2)\n",
    "\n"
   ]
  },
  {
   "cell_type": "markdown",
   "metadata": {},
   "source": [
    "7.2 Mostrad cuántos pasajeros hay en cada cola, con el detalle de cuántos de ellos tienen o bien niños o bien movilidad reducida.\n"
   ]
  },
  {
   "cell_type": "code",
   "execution_count": 19,
   "metadata": {},
   "outputs": [
    {
     "name": "stdout",
     "output_type": "stream",
     "text": [
      "En la cola prioritaria hay 0 personas, de las cuales 4 tienen hijos y 3 tienen movilidad reducida\n",
      "En la cola No prioritaria hay 0 personas, ninguna con hijos o con movilidad reducida\n"
     ]
    }
   ],
   "source": [
    "# Respuesta\n",
    "\n",
    "filter_hijos = (df_t[\"has_children\"] == 1)\n",
    "filter_mov = (df_t[\"has_reduced_mobility\"] == 1)\n",
    "\n",
    "df_hijos = df_t[filter_hijos]\n",
    "df_mov = df_t[filter_mov]\n",
    "\n",
    "print(f\"En la cola prioritaria hay {len(cola_1)} personas, de las cuales {len(df_hijos)} tienen hijos y {len(df_mov)} tienen movilidad reducida\")\n",
    "\n",
    "print(f\"En la cola No prioritaria hay {len(cola_2)} personas, ninguna con hijos o con movilidad reducida\")\n",
    "\n"
   ]
  },
  {
   "cell_type": "markdown",
   "metadata": {},
   "source": [
    "7.3 Implementad una función que genere las dos colas de embarque (cola prioritaria y cola no prioritaria) a partir de las tres colas obtenidas según la clase del billete del pasajero.\n"
   ]
  },
  {
   "cell_type": "code",
   "execution_count": 20,
   "metadata": {},
   "outputs": [],
   "source": [
    "# Respuesta"
   ]
  },
  {
   "cell_type": "markdown",
   "metadata": {},
   "source": [
    "7.4 Implementad una función que calcule el tiempo que se tarda en embarcar el avión y una función que calcule la satisfacción de los pasajeros.\n"
   ]
  },
  {
   "cell_type": "code",
   "execution_count": 21,
   "metadata": {},
   "outputs": [],
   "source": [
    "# Respuesta\n",
    "tiempo_min = int()\n",
    "def funcion_tiempo():\n",
    "    if len(cola_1) > len(cola_2):\n",
    "        tiempo_min = (len(cola_1) * 30) / 60\n",
    "    else:\n",
    "        tiempo_min = (len(cola_2) * 30) / 60\n",
    "    print(f\"El tiempo requerido para embaracar será de aproximadamente {tiempo_min} minutos\")\n",
    "\n",
    "\n",
    "    "
   ]
  },
  {
   "cell_type": "markdown",
   "metadata": {},
   "source": [
    "7.5 Calculad el tiempo que se tarda en embarcar el vuelo 714 y la satisfacción de los clientes.\n"
   ]
  },
  {
   "cell_type": "markdown",
   "metadata": {},
   "source": [
    "* Los clientes de primera tienen una satisfacción de -25 veces el número de posiciones que han perdido en la cola prioritaria respecto a su posición original en la cola de primera. Es decir, un cliente que estaba en tercera posición en la cola de primera y que ocupa la quinta posición de la cola prioritaria, tendrá una satisfacción de -50.\n",
    "* Los clientes de *business* siempre tienen una satisfacción de 0.\n",
    "* Los clientes con billete de clase turista que han sido movidos a la cola prioritaria tienen una satisfacción de 100. En cambio, los que han sido movidos a la cola no prioritaria tienen una satisfacción de 25 si han avanzado alguna posición en la cola 2 respecto a su posición inicial en la cola de la clase turista, o de 0 en cualquier otro caso.\n",
    "\n",
    "Como analistas de datos, evaluaremos la satisfacción y el tiempo de embarque del avión del vuelo 714."
   ]
  },
  {
   "cell_type": "code",
   "execution_count": 22,
   "metadata": {},
   "outputs": [
    {
     "name": "stdout",
     "output_type": "stream",
     "text": [
      "[47, 40, 36, 31, 17, 15, 1, 4, 2, 5, 3, 6, 7, 8, 9, 10, 11, 12, 13]\n",
      "[14, 16, 18, 19, 20, 21, 22, 23, 24, 25, 26, 27, 28, 29, 30, 32, 33, 34, 35, 37, 38, 39, 41, 42, 43, 44, 45, 46, 48, 49, 50]\n",
      "La satisfacción media de los pasajeros del vuelo fue de 35.0 puntos\n"
     ]
    },
    {
     "name": "stderr",
     "output_type": "stream",
     "text": [
      "C:\\Users\\Usuario\\AppData\\Local\\Temp\\ipykernel_540\\468677045.py:15: SettingWithCopyWarning: \n",
      "A value is trying to be set on a copy of a slice from a DataFrame\n",
      "\n",
      "See the caveats in the documentation: https://pandas.pydata.org/pandas-docs/stable/user_guide/indexing.html#returning-a-view-versus-a-copy\n",
      "  for (df_t[\"client_id\"][m]) in cola_2:\n"
     ]
    }
   ],
   "source": [
    "import numpy as np\n",
    "\n",
    "sat_p = int()\n",
    "sat_t = int()\n",
    "sat_total = float()\n",
    "def funcion_satisfaccion(): \n",
    "    l = 0\n",
    "    m = 0\n",
    "    t_mov = len(cola_1) - (len(df_p) + len(df_b))\n",
    "    while l <= len(df_p) - 1:\n",
    "        sat_p = ((cola_1.index(df_p[\"client_id\"][l]) + 1) - (df_p[\"client_id\"][l])) * (-25)\n",
    "        sat_p += sat_p \n",
    "        l += 1\n",
    "    while m <= ((len(df_t) - 1) - t_mov):\n",
    "        for (df_t[\"client_id\"][m]) in cola_2:\n",
    "            sat_t = ((len(cola_1) - (len(df_p) + len(df_b))) * 100) + (((df_t[\"client_id\"][m]) - (cola_2.index(df_t[\"client_id\"][m]) + 1)) * (25))  \n",
    "            sat_t += sat_t\n",
    "            m += 1\n",
    "    sat_total = (sat_t + sat_p) / len(datos_df)\n",
    "    print(f\"La satisfacción media de los pasajeros del vuelo fue de {sat_total} puntos\")\n",
    "\n",
    "\n",
    "\n",
    "funcion_filas()\n",
    "funcion_satisfaccion()"
   ]
  },
  {
   "cell_type": "code",
   "execution_count": 23,
   "metadata": {},
   "outputs": [
    {
     "data": {
      "text/plain": [
       "-525"
      ]
     },
     "execution_count": 23,
     "metadata": {},
     "output_type": "execute_result"
    }
   ],
   "source": [
    "(((cola_1.index(df_p[\"client_id\"][0]) + 1) - (df_p[\"client_id\"][0]))*(-25)) + (((cola_1.index(df_p[\"client_id\"][1]) + 1) - (df_p[\"client_id\"][1]))*(-25)) +(((cola_1.index(df_p[\"client_id\"][2]) + 1) - (df_p[\"client_id\"][2]))*(-25))"
   ]
  }
 ],
 "metadata": {
  "kernelspec": {
   "display_name": "Python 3.9.13 ('rampup_py39')",
   "language": "python",
   "name": "python3"
  },
  "language_info": {
   "codemirror_mode": {
    "name": "ipython",
    "version": 3
   },
   "file_extension": ".py",
   "mimetype": "text/x-python",
   "name": "python",
   "nbconvert_exporter": "python",
   "pygments_lexer": "ipython3",
   "version": "3.9.13"
  },
  "pycharm": {
   "stem_cell": {
    "cell_type": "raw",
    "metadata": {
     "collapsed": false
    },
    "source": []
   }
  },
  "vscode": {
   "interpreter": {
    "hash": "841b6b730caa98d10b9b1cb94a042b11b0b3943d20be54364f0ad12c19b8dd2d"
   }
  }
 },
 "nbformat": 4,
 "nbformat_minor": 4
}
