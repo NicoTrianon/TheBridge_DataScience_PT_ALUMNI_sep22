{
 "cells": [
  {
   "cell_type": "markdown",
   "metadata": {},
   "source": [
    "# Robin Hood: \n",
    "Estamos en plena competición para ganar el concurso de tiro con arco en Sherwood. Con nuestro arco y flechas disparamos sobre una diana e intentamos acertar lo más cerca posible del centro. \n",
    "\n",
    "El centro de la diana viene representado por los valores (0, 0) en los ejes de coordenadas. \n",
    "\n",
    "## Objetivos: \n",
    "* estructuras de datos: listas, conjuntos, tuplas\n",
    "* operadores lógicos: if-elif-else\n",
    "* bucle: while/for\n",
    "* cálculo de mínimo (sorting opcional)\n",
    "\n",
    "## Descripción: \n",
    "En el espacio de 2 dimensiones un punto se puede definir por un par de valores que corresponden a la coordenada horizontal (x) y a la vertical (y). El espacio puede quedar dividido en 4 zonas (cuadrantes): Q1, Q2, Q3, Q4. Cuyo punto de unión único es el punto (0, 0). \n",
    "\n",
    "Si un punto se encuentra en Q1 tanto su coordenada x como la y son positivas. Te dejo un enlace a wikipedia para que te familiarices con estos cuadrantes. \n",
    "\n",
    "https://es.wikipedia.org/wiki/Coordenadas_cartesianas\n",
    "\n",
    "https://es.wikipedia.org/wiki/Distancia_euclidiana\n",
    "\n",
    "## Tareas\n",
    "1. Robin Hood es famoso por acertar a una flecha con otra flecha. ¿Lo ha conseguido? \n",
    "2. Calcula cuántos flechazos han caido en cada cuadrante. \n",
    "3. Halla el punto más cercano al centro. Calcula su distancia al centro\n",
    "4. Si la diana tiene un radio de 9, calcula el número de flechas que hay que recoger al bosque. "
   ]
  },
  {
   "cell_type": "code",
   "execution_count": 27,
   "metadata": {},
   "outputs": [
    {
     "name": "stdout",
     "output_type": "stream",
     "text": [
      "Yes\n",
      "Q1 has 10 arrows\n",
      "Q2 has 6 arrows\n",
      "Q3 has 2 arrows\n",
      "Q4 has 4 arrows\n",
      "[6.4031242374328485, 2.0, 8.06225774829855, 3.1622776601683795, 3.605551275463989, 6.4031242374328485, 3.605551275463989, 8.602325267042627, 8.602325267042627, 2.8284271247461903, 6.4031242374328485, 2.0, 8.06225774829855, 3.1622776601683795, 3.605551275463989, 6.4031242374328485, 3.605551275463989, 8.602325267042627, 8.602325267042627, 2.8284271247461903, 12.727922061357855, 12.041594578792296]\n",
      "El punto más cercano al centro se encuentra a 2.0 cm\n",
      "Los tiros más cercanos fueron los número 1 y 11\n",
      "Se perdieron 2 flechas\n"
     ]
    }
   ],
   "source": [
    "puntos = [(4,5), (-0,2), (4,7), (1,-3), (3,-2), (4,5), \n",
    "          (3,2), (5,7), (-5,7), (2,2), (-4,5), (0,-2), \n",
    "          (-4,7), (-1,3), (-3,2), (-4,-5), (-3,2), \n",
    "          (5,7), (5,7), (2,2), (9, 9), (-8, -9)]\n",
    "\n",
    "# 1. Robin Hood es famoso por acertar a una flecha con otra flecha. ¿Lo ha conseguido? \n",
    "if len(puntos) == len(set(puntos)):\n",
    "    print(\"No\")\n",
    "else:\n",
    "    print(\"Yes\")\n",
    "\n",
    "# 2. Calcula cuántos flechazos han caido en cada cuadrante. \n",
    "Q1 = 0\n",
    "Q2 = 0\n",
    "Q3 = 0\n",
    "Q4 = 0\n",
    "for x, y in puntos:\n",
    "    if x > 0 and y > 0:\n",
    "        Q1 += 1\n",
    "    elif x < 0 and y > 0:\n",
    "        Q2 += 1\n",
    "    elif x < 0 and y < 0:\n",
    "        Q3 += 1\n",
    "    else: \n",
    "        Q4 += 1\n",
    "print(\"Q1 has {} arrows\".format(Q1))\n",
    "print(\"Q2 has {} arrows\".format(Q2))\n",
    "print(\"Q3 has {} arrows\".format(Q3))\n",
    "print(\"Q4 has {} arrows\".format(Q4))\n",
    "\n",
    "# 3. Halla el punto más cercano al centro. Calcula su distancia al centro\n",
    "# Definir una función que calcula la distancia al centro puede servir de ayuda. \n",
    "distance_center_list = []\n",
    "for x, y in puntos:\n",
    "    distance_center = ((x**2)+(y**2))**(1/2)\n",
    "    distance_center_list.append(distance_center)\n",
    "print(distance_center_list)\n",
    "\n",
    "# Punto más cercano al centro\n",
    "print(\"El punto más cercano al centro se encuentra a {} cm\".format(min(distance_center_list)))\n",
    "cercano_1 = puntos[distance_center_list.index(2.0)]\n",
    "cercano_2 = puntos[distance_center_list.index(2.0, 2)]\n",
    "print(\"Los tiros más cercanos fueron los número {} y {}\".format(puntos.index(cercano_1), (puntos.index(cercano_2))))\n",
    "\n",
    "# 4. Si la diana tiene un radio de 9, calcula el número de flechas que hay que recoger al bosque. \n",
    "arrows_lost = 0\n",
    "for i in distance_center_list:\n",
    "    if i > 9:\n",
    "        arrows_lost += 1\n",
    "print(\"Se perdieron {} flechas\".format(arrows_lost))"
   ]
  },
  {
   "cell_type": "code",
   "execution_count": null,
   "metadata": {},
   "outputs": [],
   "source": []
  }
 ],
 "metadata": {
  "kernelspec": {
   "display_name": "Python 3.7.4 64-bit",
   "language": "python",
   "name": "python3"
  },
  "language_info": {
   "codemirror_mode": {
    "name": "ipython",
    "version": 3
   },
   "file_extension": ".py",
   "mimetype": "text/x-python",
   "name": "python",
   "nbconvert_exporter": "python",
   "pygments_lexer": "ipython3",
   "version": "3.7.4"
  },
  "vscode": {
   "interpreter": {
    "hash": "98f313b375bd142157bd85247f9cae0a692e725b9cc4cd8be55ca840b47a019b"
   }
  }
 },
 "nbformat": 4,
 "nbformat_minor": 2
}
