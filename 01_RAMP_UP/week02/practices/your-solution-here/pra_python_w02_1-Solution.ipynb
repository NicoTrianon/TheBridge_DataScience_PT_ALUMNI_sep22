{
 "cells": [
  {
   "cell_type": "markdown",
   "metadata": {},
   "source": [
    "Programación para *Data Science*\n",
    "============================\n",
    "\n",
    "Intro101 - 02.1: Conceptos de Python\n",
    "--------------------------------------\n",
    "\n",
    "En este Notebook encontraréis dos conjuntos de ejercicios: un primer conjunto de ejercicios para practicar y que no puntuan, pero que recomendamos intentar resolver y un segundo conjunto que evaluaremos como actividad."
   ]
  },
  {
   "cell_type": "markdown",
   "metadata": {},
   "source": [
    "## Ejercicios para practicar\n",
    "\n",
    "**Los siguientes 3 ejercicios no puntuan**, pero os recomendamos que los intentéis resolver antes de pasar a los ejercicios propios. También podéis encontrar las soluciones a estos ejercicios al final del Notebook. "
   ]
  },
  {
   "cell_type": "markdown",
   "metadata": {},
   "source": [
    "### Ejercicio 1\n",
    "\n",
    "El siguiente ejercicio consiste en pasar un número en base 16 (hexadecimal, 0-9/A-F) a base 10 (decimal). Para hacerlo, debéis crear una **función** que dado un _string_ que representa un número en hexadecimal, por ejemplo, `AE3F`, devuelva el número \n",
    "natural correspondiente. En este caso, el resultado sería `44607`."
   ]
  },
  {
   "cell_type": "code",
   "execution_count": 1,
   "metadata": {},
   "outputs": [],
   "source": [
    "# Respuesta"
   ]
  },
  {
   "cell_type": "markdown",
   "metadata": {},
   "source": [
    "### Ejercicio 2\n",
    "\n",
    "Las excepciones son errores detectados en tiempo de ejecución. Pueden y deben ser manejadas por el programador para minimizar el riesgo de que un determinado programa falle de forma no controlada. Escribid, en lenguaje Python, cómo generar y capturar la siguiente excepción: **ZeroDivisionError**."
   ]
  },
  {
   "cell_type": "code",
   "execution_count": 2,
   "metadata": {},
   "outputs": [
    {
     "name": "stdout",
     "output_type": "stream",
     "text": [
      "Dividing into 0 not possible\n"
     ]
    }
   ],
   "source": [
    "# Respuesta\n",
    "try:\n",
    "    b = 5/0\n",
    "except(ZeroDivisionError):\n",
    "    print(\"Dividing into 0 not possible\")"
   ]
  },
  {
   "cell_type": "markdown",
   "metadata": {},
   "source": [
    "### Ejercicio 3\n",
    "\n",
    "Completad el código necesario para calcular el número de vocales y de consonantes respectivamente de un texto."
   ]
  },
  {
   "cell_type": "code",
   "execution_count": 3,
   "metadata": {},
   "outputs": [
    {
     "name": "stdout",
     "output_type": "stream",
     "text": [
      "Hola a todos!\n",
      "The number of vocals is 5\n",
      "The number of consonants is 5\n"
     ]
    }
   ],
   "source": [
    "texto = \"Hola a todos!\"\n",
    "print(texto)\n",
    "vocals = [\"a\", \"e\", \"i\", \"o\", \"u\"]\n",
    "def count_vocals(texto):\n",
    "    num_vocals = 0\n",
    "    num_cons = 0\n",
    "    for c in texto.lower():\n",
    "        if c in vocals:\n",
    "            num_vocals += 1\n",
    "        elif c > \"a\" and c < \"z\":\n",
    "            num_cons += 1\n",
    "    \n",
    "    print(\"The number of vocals is \" + str(num_vocals))\n",
    "    print(\"The number of consonants is \" + str(num_cons))\n",
    "    \n",
    "count_vocals(texto)\n"
   ]
  },
  {
   "cell_type": "code",
   "execution_count": 4,
   "metadata": {},
   "outputs": [
    {
     "name": "stdout",
     "output_type": "stream",
     "text": [
      "Bienvenidos!\n",
      "The number of vocals is 5\n",
      "The number of consonants is 6\n"
     ]
    }
   ],
   "source": [
    "texto_2 = \"Bienvenidos!\"\n",
    "print(texto_2)\n",
    "def count_vocals(texto_2):\n",
    "    num_vocals = 0\n",
    "    num_cons = 0\n",
    "    for c in texto_2.lower():\n",
    "        if c in vocals:\n",
    "            num_vocals += 1\n",
    "        elif c > \"a\" and c < \"z\":\n",
    "            num_cons += 1\n",
    "    \n",
    "    print(\"The number of vocals is \" + str(num_vocals))\n",
    "    print(\"The number of consonants is \" + str(num_cons))\n",
    "    \n",
    "count_vocals(texto_2)"
   ]
  },
  {
   "cell_type": "code",
   "execution_count": 8,
   "metadata": {},
   "outputs": [],
   "source": [
    "def imprime(argumento):\n",
    "    nuevo = argumento + texto_2\n",
    "    print(nuevo)\n",
    "    count_vocals(nuevo)"
   ]
  },
  {
   "cell_type": "code",
   "execution_count": 9,
   "metadata": {},
   "outputs": [
    {
     "name": "stdout",
     "output_type": "stream",
     "text": [
      "Hola a todos!Bienvenidos!\n",
      "The number of vocals is 10\n",
      "The number of consonants is 11\n"
     ]
    }
   ],
   "source": [
    "imprime(texto)"
   ]
  },
  {
   "cell_type": "code",
   "execution_count": 6,
   "metadata": {},
   "outputs": [
    {
     "name": "stdout",
     "output_type": "stream",
     "text": [
      "Hola a todos!Bienvenidos!\n"
     ]
    }
   ],
   "source": [
    "imprime(texto)"
   ]
  },
  {
   "cell_type": "code",
   "execution_count": null,
   "metadata": {},
   "outputs": [],
   "source": []
  },
  {
   "cell_type": "markdown",
   "metadata": {},
   "source": [
    "Pseudocódigo\n",
    "\n",
    "Dado un texto con n palabras\n",
    "la operación tiene que contar vocales y consonantes\n",
    "\n",
    "SI en el texto existe una vocal\n",
    "    IF:\n",
    "        num_vocales +1\n",
    "    ELSE desde (A AND la Z) OR (ç AND ñ):\n",
    "        num_consonantes +1"
   ]
  },
  {
   "cell_type": "code",
   "execution_count": 7,
   "metadata": {
    "attributes": {
     "classes": [
      "sourceCode"
     ],
     "id": ""
    }
   },
   "outputs": [
    {
     "name": "stdout",
     "output_type": "stream",
     "text": [
      "El número de vocales es 44.\n",
      "El número de consonantes es 62.\n"
     ]
    }
   ],
   "source": [
    "def contar_vocales_y_consonantes(texto):\n",
    "    # Cuenta las vocales contenidas en el string texto y también las consonantes.\n",
    "    num_vocales = 0\n",
    "    num_consonantes = 0\n",
    "\n",
    "    # Código que hay que completar.\n",
    "    #texto = texto.decode('utf-8')\n",
    "    \n",
    "    # Definimos una lista con las vocales en unicode\n",
    "    vocales = [u'a', u'e', u'i', u'o', u'u', u'à', u'á', u'ä', u'ï', u'è', u'é', u'í', u'ï', u'ò', u'ó', u'ú', u'ü']\n",
    "    \n",
    "    for t in texto.lower():\n",
    "        if t in vocales:\n",
    "            num_vocales += 1\n",
    "        elif t > 'a' and t <= 'z' or t == u'ç' or t == u'ñ':\n",
    "            num_consonantes += 1\n",
    "            \n",
    "    return num_vocales, num_consonantes\n",
    "\n",
    "texto = \"Orbiting Earth in the spaceship, I saw how beautiful our planet is. \\\n",
    "            People, let us preserve and increase this beauty, not destroy it!\"\n",
    "\n",
    "num_vocales, num_consonantes = contar_vocales_y_consonantes(texto)\n",
    "print (\"El número de vocales es %d.\" % num_vocales)\n",
    "print (\"El número de consonantes es %d.\" % num_consonantes)"
   ]
  },
  {
   "cell_type": "markdown",
   "metadata": {},
   "source": [
    "---\n",
    "\n",
    "## Ejercicios y preguntas teóricas\n",
    "\n",
    "A continuación encontraréis los **ejercicios y preguntas teóricas que debéis completar en este módulo intro-101** y que forman parte de la evaluación de esta unidad."
   ]
  },
  {
   "cell_type": "markdown",
   "metadata": {},
   "source": [
    "### Pregunta 1\n",
    "\n",
    "Las funciones _range_ y _xrange_ pueden utilizarse con la misma finalidad, pero su funcionamiento es diferente. Poned un ejemplo donde sería recomendable intercambiar la función _range_ por la función _xrange_.\n",
    "\n",
    "**Respuesta:**"
   ]
  },
  {
   "cell_type": "markdown",
   "metadata": {},
   "source": [
    "Mientras que la fucnión range devuelve una lista comprendida entre los parámetros dados, la función xrange devuelve un objeto del tipo xrange (un iterador). Esto hace que la memoria necesaria para almacenar la variable de salida sea mucho menor con la función xrange, ya que mientras que un range(0,10000) almacena en la memoria una lista de 10000 elementos, un xrange(0,10000) va generando dichos elementos a medida que se los invoque en la escritura.\n",
    "\n",
    "Nota: en Python 3, la función xrange está obsoleta, y range se comporta como xrange se comportaba en Python 2. Es por esto que si quiero generar una lista para un rango, tengo que utilizar la función list en el range. "
   ]
  },
  {
   "cell_type": "markdown",
   "metadata": {},
   "source": [
    "### Pregunta 2\n",
    "\n",
    "a) Explicad brevemente cada línea de código del siguiente bloque (añadid comentarios en el mismo bloque de código):"
   ]
  },
  {
   "cell_type": "code",
   "execution_count": 1,
   "metadata": {
    "tags": []
   },
   "outputs": [
    {
     "name": "stdout",
     "output_type": "stream",
     "text": [
      "Primera iteración: número generado = 0\n",
      "Primera iteración: número generado = 1\n",
      "Primera iteración: número generado = 2\n",
      "Primera iteración: número generado = 3\n",
      "Primera iteración: número generado = 4\n",
      "Primera iteración: número generado = 5\n",
      "Primera iteración: número generado = 6\n",
      "Primera iteración: número generado = 7\n",
      "Primera iteración: número generado = 8\n",
      "Primera iteración: número generado = 9\n"
     ]
    }
   ],
   "source": [
    "# Añadid vuestros comentarios de código en este mismo bloque\n",
    "\n",
    "# Definimos la función create_generator, la cual nos devuelve un objeto generador para cada uno de los elementos\n",
    "# dentro del rango (0, 9). La función no devuelve todos los valores a la vez, sino que va iterando sobre los \n",
    "# elementos del rango cada vez que se la llama. \n",
    "def create_generator():\n",
    "    for i in range(10):\n",
    "        yield i\n",
    "        \n",
    "# Definimos la variable num_generator y la asignamos a la función create_generator. Une vez definida, creamos un for\n",
    "# loop que itere sobre los elementos del rango, devolviendo el número del rango generado por cada generador \n",
    "# retornado con la función create_generator anteriormente.\n",
    "num_generator = create_generator()\n",
    "for i in num_generator:\n",
    "    print(\"Primera iteración: número generado =\", i)\n",
    "    \n",
    "for j in num_generator:\n",
    "    print(\"Segunda iteración: número generado =\", j)"
   ]
  },
  {
   "cell_type": "markdown",
   "metadata": {},
   "source": [
    "b) Explicad brevemente la salida por pantalla que observamos al ejecutar el código anterior.\n",
    "\n",
    "\n",
    "**Respuesta**"
   ]
  },
  {
   "cell_type": "markdown",
   "metadata": {},
   "source": [
    "Cada línea detalla el número del rango (0, 9) generado por cada generador obtenido cada vez que se ejecuta la función create_generator."
   ]
  },
  {
   "cell_type": "markdown",
   "metadata": {},
   "source": [
    "### Ejercicio 1\n",
    "\n",
    "Escribid una función que dada una lista de planetas del sistema solar, pregunte al usuario que introduzca una posición y muestre el plante correspondiente a dicha posición. Por ejemplo, si tenemos la siguiente lista: `['Mercurio', 'Venus', 'Tierra', 'Marte']` y el usuario nos ha introducido la posición `3`, hemos de mostrar como resultado por pantalla: `Tierra`.\n",
    "\n",
    "Consideraciones:\n",
    "\n",
    "- La posición que introduzca el usuario tiene que ser un número entero estrictamente positivo.\n",
    "- La función debe controlar el acceso a una posición fuera de la lista mediante una **excepción**. Por ejemplo, en el caso anterior debemos mostrar una mensaje de error si el usuario pide acceder a la posición 10.\n"
   ]
  },
  {
   "cell_type": "code",
   "execution_count": 9,
   "metadata": {},
   "outputs": [
    {
     "data": {
      "text/plain": [
       "['Mercurio', 'Venus', 'Tierra', 'Marte']"
      ]
     },
     "execution_count": 9,
     "metadata": {},
     "output_type": "execute_result"
    }
   ],
   "source": [
    "# Respuesta\n",
    "planetas = ['Mercurio', 'Venus', 'Tierra', 'Marte']\n",
    "planetas"
   ]
  },
  {
   "cell_type": "code",
   "execution_count": 10,
   "metadata": {},
   "outputs": [
    {
     "data": {
      "text/plain": [
       "list"
      ]
     },
     "execution_count": 10,
     "metadata": {},
     "output_type": "execute_result"
    }
   ],
   "source": [
    "type(planetas)"
   ]
  },
  {
   "cell_type": "code",
   "execution_count": 11,
   "metadata": {},
   "outputs": [
    {
     "data": {
      "text/plain": [
       "4"
      ]
     },
     "execution_count": 11,
     "metadata": {},
     "output_type": "execute_result"
    }
   ],
   "source": [
    "len(planetas)"
   ]
  },
  {
   "cell_type": "code",
   "execution_count": 12,
   "metadata": {},
   "outputs": [
    {
     "data": {
      "text/plain": [
       "'Mercurio'"
      ]
     },
     "execution_count": 12,
     "metadata": {},
     "output_type": "execute_result"
    }
   ],
   "source": [
    "planetas[0]"
   ]
  },
  {
   "cell_type": "code",
   "execution_count": 13,
   "metadata": {},
   "outputs": [
    {
     "data": {
      "text/plain": [
       "'Venus'"
      ]
     },
     "execution_count": 13,
     "metadata": {},
     "output_type": "execute_result"
    }
   ],
   "source": [
    "planetas[1]"
   ]
  },
  {
   "cell_type": "code",
   "execution_count": 14,
   "metadata": {},
   "outputs": [
    {
     "name": "stdout",
     "output_type": "stream",
     "text": [
      "Mercurio\n",
      "Venus\n",
      "Tierra\n",
      "Marte\n"
     ]
    }
   ],
   "source": [
    "for planeta in planetas:\n",
    "    print(planeta)"
   ]
  },
  {
   "cell_type": "code",
   "execution_count": 15,
   "metadata": {},
   "outputs": [
    {
     "name": "stdout",
     "output_type": "stream",
     "text": [
      "0 Mercurio\n",
      "1 Venus\n",
      "2 Tierra\n",
      "3 Marte\n"
     ]
    }
   ],
   "source": [
    "for i, planeta in enumerate(planetas):\n",
    "    print(i, planeta)"
   ]
  },
  {
   "cell_type": "code",
   "execution_count": 4,
   "metadata": {},
   "outputs": [
    {
     "name": "stdout",
     "output_type": "stream",
     "text": [
      "Tierra\n"
     ]
    }
   ],
   "source": [
    "planetas = ['Mercurio', 'Venus', 'Tierra', 'Marte']\n",
    "planetas_dict = {}\n",
    "for planeta in planetas:\n",
    "    planetas_dict[planetas.index(planeta)] = planeta\n",
    "\n",
    "planetas = ['Mercurio', 'Venus', 'Tierra', 'Marte']\n",
    "\n",
    "def select_planet():\n",
    "    a = input(\"Choose your country: \")\n",
    "    while a.isnumeric() == False or int(a) < 0:\n",
    "        a = input(\"Choose a valid country: \")   \n",
    "\n",
    "    for k in planetas_dict:\n",
    "        if int(a) not in range(len(planetas)):\n",
    "            raise Exception(\"Error: invalid number. Number outside the range of planets inside the Solar system.\")\n",
    "        if int(a) == k:\n",
    "            print(planetas_dict.get(k))\n",
    "        \n",
    "            \n",
    "select_planet()\n"
   ]
  },
  {
   "cell_type": "markdown",
   "metadata": {},
   "source": [
    "### Ejercicio 2\n",
    "\n",
    "Dada una lista de planetas del sistema solar, determinad cuales de estos planetas tienen una masa superior a la de la Tierra. Por ejemplo, si la lista inicial es `['Venus', 'Marte', 'Saturno']`, el resultado que mostraríamos por pantalla sería `['Saturno']` ya que el planeta Saturno tiene una masa `95.2` veces superior a la Tierra.\n",
    "\n",
    "Consideraciones:\n",
    "\n",
    "- Debéis tener en cuenta que el nombre de los planetas que nos pasan por parámetro puede estar en minúsculas, mayúsculas o una combinación de ambas.\n",
    "- Podéis asumir que no habrá acentos en el nombre de los planetas.\n",
    "- Debéis determinar aquellos planetas que tiene una massa estrictamente superior a la de la Tierra.\n",
    "- No habrá planetas repetidos en la lista que nos pasan por parámetro.\n"
   ]
  },
  {
   "cell_type": "code",
   "execution_count": 16,
   "metadata": {},
   "outputs": [],
   "source": [
    "masas = {'Mercurio': 0.06, 'Venus': 0.82, 'Tierra': 1, 'Marte': 0.11, 'Jupiter': 317.8, \n",
    "          'Saturno': 95.2, 'Urano': 14.6, 'Neptuno': 17.2, 'Pluto': 0.0022}"
   ]
  },
  {
   "cell_type": "code",
   "execution_count": 17,
   "metadata": {},
   "outputs": [
    {
     "data": {
      "text/plain": [
       "dict"
      ]
     },
     "execution_count": 17,
     "metadata": {},
     "output_type": "execute_result"
    }
   ],
   "source": [
    "type(masas)"
   ]
  },
  {
   "cell_type": "code",
   "execution_count": 18,
   "metadata": {},
   "outputs": [
    {
     "data": {
      "text/plain": [
       "9"
      ]
     },
     "execution_count": 18,
     "metadata": {},
     "output_type": "execute_result"
    }
   ],
   "source": [
    "len(masas)"
   ]
  },
  {
   "cell_type": "code",
   "execution_count": 19,
   "metadata": {},
   "outputs": [
    {
     "data": {
      "text/plain": [
       "0.06"
      ]
     },
     "execution_count": 19,
     "metadata": {},
     "output_type": "execute_result"
    }
   ],
   "source": [
    "# Llamar el primer elemento del diccionario\n",
    "masas['Mercurio']"
   ]
  },
  {
   "cell_type": "code",
   "execution_count": 10,
   "metadata": {},
   "outputs": [
    {
     "data": {
      "text/plain": [
       "dict_keys(['Mercurio', 'Venus', 'Tierra', 'Marte', 'Jupiter', 'Saturno', 'Urano', 'Neptuno', 'Pluto'])"
      ]
     },
     "execution_count": 10,
     "metadata": {},
     "output_type": "execute_result"
    }
   ],
   "source": [
    "masas.keys()"
   ]
  },
  {
   "cell_type": "code",
   "execution_count": 21,
   "metadata": {},
   "outputs": [
    {
     "data": {
      "text/plain": [
       "dict_values([0.06, 0.82, 1, 0.11, 317.8, 95.2, 14.6, 17.2, 0.0022])"
      ]
     },
     "execution_count": 21,
     "metadata": {},
     "output_type": "execute_result"
    }
   ],
   "source": [
    "masas.values()"
   ]
  },
  {
   "cell_type": "code",
   "execution_count": 22,
   "metadata": {},
   "outputs": [
    {
     "data": {
      "text/plain": [
       "17.2"
      ]
     },
     "execution_count": 22,
     "metadata": {},
     "output_type": "execute_result"
    }
   ],
   "source": [
    "masas['Neptuno']"
   ]
  },
  {
   "cell_type": "code",
   "execution_count": null,
   "metadata": {},
   "outputs": [],
   "source": []
  },
  {
   "cell_type": "code",
   "execution_count": 3,
   "metadata": {
    "attributes": {
     "classes": [
      "sourceCode"
     ],
     "id": ""
    }
   },
   "outputs": [
    {
     "name": "stdout",
     "output_type": "stream",
     "text": [
      "[]\n",
      "['Jupiter', 'Saturno']\n",
      "['Urano', 'Neptuno']\n",
      "['Saturno']\n"
     ]
    }
   ],
   "source": [
    "# Masas medidas con respecto a la Tierra\n",
    "# Es decir, un valor de 14.6 representaria una masa 14.6 veces superior a la de la Tierra\n",
    "masas = {'Mercurio': 0.06, 'Venus': 0.82, 'Tierra': 1, 'Marte': 0.11, 'Jupiter': 317.8, \n",
    "          'Saturno': 95.2, 'Urano': 14.6, 'Neptuno': 17.2, 'Pluto': 0.0022}\n",
    "\n",
    "def planetas_mas_grandes_que_Tierra(planetas):\n",
    "    \"\"\"\n",
    "    Planetas con una masa superior a la de la Tierra\n",
    "    \"\"\"\n",
    "    planetas_masa_superior = []\n",
    "\n",
    "    # Código a completar\n",
    "    for planeta in planetas:\n",
    "        if masas[planeta.capitalize()] > 1:\n",
    "            planetas_masa_superior.append(planeta.title())\n",
    "\n",
    "    return planetas_masa_superior\n",
    "\n",
    "# Ejemplos de uso de la función anterior\n",
    "print(planetas_mas_grandes_que_Tierra(['Venus', 'Mercurio', 'Marte']))\n",
    "print(planetas_mas_grandes_que_Tierra(['Jupiter', 'Saturno', 'Pluto']))\n",
    "print(planetas_mas_grandes_que_Tierra(['urano', 'tierra', 'neptuno', 'marte', 'Venus']))\n",
    "print(planetas_mas_grandes_que_Tierra(['Tierra', 'MeRcUrIo', 'PLUTO', 'SATURNO']))\n",
    "\n",
    "# Podéis añadir más ejemplos si lo consideráis oportuno"
   ]
  },
  {
   "cell_type": "code",
   "execution_count": 13,
   "metadata": {},
   "outputs": [
    {
     "name": "stdout",
     "output_type": "stream",
     "text": [
      "dict_items([('Mercurio', 0.06), ('Venus', 0.82), ('Tierra', 1), ('Marte', 0.11), ('Jupiter', 317.8), ('Saturno', 95.2), ('Urano', 14.6), ('Neptuno', 17.2), ('Pluto', 0.0022)])\n"
     ]
    }
   ],
   "source": [
    "print(masas.items())"
   ]
  },
  {
   "cell_type": "markdown",
   "metadata": {},
   "source": []
  },
  {
   "cell_type": "markdown",
   "metadata": {},
   "source": [
    "### Ejercicio 3\n",
    "\n",
    "Completad las siguientes funciones y documentad el código si lo consideráis oportuno. Finalmente, escribid al menos un ejemplo de uso para cada función.\n"
   ]
  },
  {
   "cell_type": "code",
   "execution_count": 3,
   "metadata": {},
   "outputs": [
    {
     "name": "stdout",
     "output_type": "stream",
     "text": [
      "El objeto se ha dejado caer des de una altura de 490.000000 metros\n",
      "El objeto se ha dejado caer des de una altura de 11.030000 metros\n"
     ]
    },
    {
     "ename": "TypeError",
     "evalue": "can't convert complex to float",
     "output_type": "error",
     "traceback": [
      "\u001b[1;31m---------------------------------------------------------------------------\u001b[0m",
      "\u001b[1;31mTypeError\u001b[0m                                 Traceback (most recent call last)",
      "\u001b[1;32mc:\\Users\\Usuario\\Desktop\\The Bridge\\GitHub mío\\Prácticas finales PY101\\pra_python_w02_1.ipynb Celda 46\u001b[0m in \u001b[0;36m<cell line: 48>\u001b[1;34m()\u001b[0m\n\u001b[0;32m     <a href='vscode-notebook-cell:/c%3A/Users/Usuario/Desktop/The%20Bridge/GitHub%20m%C3%ADo/Pr%C3%A1cticas%20finales%20PY101/pra_python_w02_1.ipynb#X63sZmlsZQ%3D%3D?line=43'>44</a>\u001b[0m \u001b[39mprint\u001b[39m(\u001b[39m\"\u001b[39m\u001b[39mEl objeto se ha dejado caer des de una altura de \u001b[39m\u001b[39m%f\u001b[39;00m\u001b[39m metros\u001b[39m\u001b[39m\"\u001b[39m \u001b[39m%\u001b[39m calcular_altura_caida_libre(\u001b[39m10\u001b[39m))\n\u001b[0;32m     <a href='vscode-notebook-cell:/c%3A/Users/Usuario/Desktop/The%20Bridge/GitHub%20m%C3%ADo/Pr%C3%A1cticas%20finales%20PY101/pra_python_w02_1.ipynb#X63sZmlsZQ%3D%3D?line=44'>45</a>\u001b[0m \u001b[39mprint\u001b[39m(\u001b[39m\"\u001b[39m\u001b[39mEl objeto se ha dejado caer des de una altura de \u001b[39m\u001b[39m%f\u001b[39;00m\u001b[39m metros\u001b[39m\u001b[39m\"\u001b[39m \u001b[39m%\u001b[39m calcular_altura_caida_libre(\u001b[39m1.5\u001b[39m))\n\u001b[1;32m---> <a href='vscode-notebook-cell:/c%3A/Users/Usuario/Desktop/The%20Bridge/GitHub%20m%C3%ADo/Pr%C3%A1cticas%20finales%20PY101/pra_python_w02_1.ipynb#X63sZmlsZQ%3D%3D?line=47'>48</a>\u001b[0m \u001b[39mprint\u001b[39m(\u001b[39m\"\u001b[39m\u001b[39mLas coordenadas en el sistema cartesiano del punto (13, 23) son (\u001b[39m\u001b[39m%f\u001b[39;00m\u001b[39m, \u001b[39m\u001b[39m%f\u001b[39;00m\u001b[39m).\u001b[39m\u001b[39m\"\u001b[39m \u001b[39m%\u001b[39m calcular_coordenadas_cartesianas(\u001b[39m13\u001b[39;49m, \u001b[39m23\u001b[39;49m))\n\u001b[0;32m     <a href='vscode-notebook-cell:/c%3A/Users/Usuario/Desktop/The%20Bridge/GitHub%20m%C3%ADo/Pr%C3%A1cticas%20finales%20PY101/pra_python_w02_1.ipynb#X63sZmlsZQ%3D%3D?line=48'>49</a>\u001b[0m \u001b[39mprint\u001b[39m(\u001b[39m\"\u001b[39m\u001b[39mLas coordenadas en el sistema cartesiano del punto (5, 90) son (\u001b[39m\u001b[39m%f\u001b[39;00m\u001b[39m, \u001b[39m\u001b[39m%f\u001b[39;00m\u001b[39m).\u001b[39m\u001b[39m\"\u001b[39m \u001b[39m%\u001b[39m calcular_coordenadas_cartesianas(\u001b[39m5\u001b[39m, \u001b[39m90\u001b[39m))\n",
      "\u001b[1;32mc:\\Users\\Usuario\\Desktop\\The Bridge\\GitHub mío\\Prácticas finales PY101\\pra_python_w02_1.ipynb Celda 46\u001b[0m in \u001b[0;36mcalcular_coordenadas_cartesianas\u001b[1;34m(radio, angulo_en_grados)\u001b[0m\n\u001b[0;32m     <a href='vscode-notebook-cell:/c%3A/Users/Usuario/Desktop/The%20Bridge/GitHub%20m%C3%ADo/Pr%C3%A1cticas%20finales%20PY101/pra_python_w02_1.ipynb#X63sZmlsZQ%3D%3D?line=33'>34</a>\u001b[0m \u001b[39mdef\u001b[39;00m \u001b[39mcalcular_coordenadas_cartesianas\u001b[39m(radio, angulo_en_grados):\n\u001b[0;32m     <a href='vscode-notebook-cell:/c%3A/Users/Usuario/Desktop/The%20Bridge/GitHub%20m%C3%ADo/Pr%C3%A1cticas%20finales%20PY101/pra_python_w02_1.ipynb#X63sZmlsZQ%3D%3D?line=34'>35</a>\u001b[0m     \u001b[39m# Convertimos el ángulo a radianes\u001b[39;00m\n\u001b[0;32m     <a href='vscode-notebook-cell:/c%3A/Users/Usuario/Desktop/The%20Bridge/GitHub%20m%C3%ADo/Pr%C3%A1cticas%20finales%20PY101/pra_python_w02_1.ipynb#X63sZmlsZQ%3D%3D?line=35'>36</a>\u001b[0m     angulo_radianes \u001b[39m=\u001b[39m math\u001b[39m.\u001b[39mradians(angulo_en_grados)\n\u001b[1;32m---> <a href='vscode-notebook-cell:/c%3A/Users/Usuario/Desktop/The%20Bridge/GitHub%20m%C3%ADo/Pr%C3%A1cticas%20finales%20PY101/pra_python_w02_1.ipynb#X63sZmlsZQ%3D%3D?line=36'>37</a>\u001b[0m     x \u001b[39m=\u001b[39m \u001b[39mfloat\u001b[39;49m(radio \u001b[39m*\u001b[39;49m cos(angulo_en_grados))\n\u001b[0;32m     <a href='vscode-notebook-cell:/c%3A/Users/Usuario/Desktop/The%20Bridge/GitHub%20m%C3%ADo/Pr%C3%A1cticas%20finales%20PY101/pra_python_w02_1.ipynb#X63sZmlsZQ%3D%3D?line=37'>38</a>\u001b[0m     y \u001b[39m=\u001b[39m \u001b[39mfloat\u001b[39m(radio \u001b[39m*\u001b[39m sin(angulo_en_grados))\n\u001b[0;32m     <a href='vscode-notebook-cell:/c%3A/Users/Usuario/Desktop/The%20Bridge/GitHub%20m%C3%ADo/Pr%C3%A1cticas%20finales%20PY101/pra_python_w02_1.ipynb#X63sZmlsZQ%3D%3D?line=39'>40</a>\u001b[0m     \u001b[39mreturn\u001b[39;00m x,y\n",
      "\u001b[1;31mTypeError\u001b[0m: can't convert complex to float"
     ]
    }
   ],
   "source": [
    "# Completad las funciones matemáticas siguientes\n",
    "import math\n",
    "\n",
    "\"\"\"Función que calcula la altura en un movimiento de caída libre\n",
    "\n",
    "Suponemos que dejamos caer un objeto des de un edificio de altura desconocida.\n",
    "El parámetro duracion_caida nos indica el tiempo (en segundos) que tarda el objeto en llegar a \n",
    "la tierra. La función debería calcular la altura del edificio des del cual se ha \n",
    "lanzado el objeto.\n",
    "\n",
    "Podéis encontrar más información sobre el movimiento de caída libre en el siguiente \n",
    "enlace: https://www.fisicalab.com/apartado/caida-libre#contenidos.\n",
    "\"\"\"\n",
    "\n",
    "def calcular_altura_caida_libre(duracion_caida):\n",
    "    # Definimos las variables que intervendran en la equación\n",
    "    gravity = 9.8\n",
    "    h = (gravity * (duracion_caida**2)) / 2\n",
    "    \n",
    "    return(round(h, 2))\n",
    "\n",
    "\n",
    "\"\"\"Función que calcula las coordenadas cartesianas de un punto representado en coordenadas polares\n",
    "\n",
    "Dado un punto representado por sus coordenadas polares (radio y angulo), la función debería calcular \n",
    "las correspondientes coordenadas cartesianas y devolver una tupla con su valor.\n",
    "\n",
    "Podéis encontrar más información sobre el sistema de coordenadas polares y su conversión al sistema \n",
    "cartesiano en el siguiente enlace: https://es.wikipedia.org/wiki/Coordenadas_polares.\n",
    "\"\"\"\n",
    "\n",
    "from cmath import cos, sin\n",
    "\n",
    "def calcular_coordenadas_cartesianas(radio, angulo_en_grados):\n",
    "    # Convertimos el ángulo a radianes\n",
    "    angulo_radianes = math.radians(angulo_en_grados)\n",
    "    x = radio * cos(angulo_en_grados)\n",
    "    y = radio * sin(angulo_en_grados)\n",
    "    \n",
    "    return x,y\n",
    "    \n",
    "\n",
    "# Escribid aquí al menos un ejemplo de uso utilizando las funciones anteriores. Por ejemplo:\n",
    "print(\"El objeto se ha dejado caer des de una altura de %f metros\" % calcular_altura_caida_libre(10))\n",
    "print(\"El objeto se ha dejado caer des de una altura de %f metros\" % calcular_altura_caida_libre(1.5))\n",
    "\n",
    "\n",
    "print(\"Las coordenadas en el sistema cartesiano del punto (13, 23) son (%f, %f).\" % calcular_coordenadas_cartesianas(13, 23))\n",
    "print(\"Las coordenadas en el sistema cartesiano del punto (5, 90) son (%f, %f).\" % calcular_coordenadas_cartesianas(5, 90))"
   ]
  },
  {
   "cell_type": "code",
   "execution_count": null,
   "metadata": {},
   "outputs": [],
   "source": []
  },
  {
   "cell_type": "markdown",
   "metadata": {},
   "source": [
    "### Ejercicio 4\n",
    "\n",
    "Escribid una función que dado un número entero positivo, `N`, genere un fichero con el nombre `output.txt` que contendrá `N` líneas, donde cada línea deberá mostrar una número consecutivo de letras `A`.\n",
    "\n",
    "Por ejemplo, si `N = 4`, el fichero generado deberá contener el siguiente contenido:\n",
    "\n",
    "```\n",
    "A\n",
    "AA\n",
    "AAA \n",
    "AAAA\n",
    "```\n"
   ]
  },
  {
   "cell_type": "code",
   "execution_count": 5,
   "metadata": {
    "attributes": {
     "classes": [
      "sourceCode"
     ],
     "id": ""
    }
   },
   "outputs": [
    {
     "ename": "TypeError",
     "evalue": "not all arguments converted during string formatting",
     "output_type": "error",
     "traceback": [
      "\u001b[1;31m---------------------------------------------------------------------------\u001b[0m",
      "\u001b[1;31mTypeError\u001b[0m                                 Traceback (most recent call last)",
      "\u001b[1;32mc:\\Users\\Usuario\\Desktop\\The Bridge\\GitHub mío\\Prácticas finales PY101\\pra_python_w02_1.ipynb Celda 48\u001b[0m in \u001b[0;36m<cell line: 14>\u001b[1;34m()\u001b[0m\n\u001b[0;32m     <a href='vscode-notebook-cell:/c%3A/Users/Usuario/Desktop/The%20Bridge/GitHub%20m%C3%ADo/Pr%C3%A1cticas%20finales%20PY101/pra_python_w02_1.ipynb#X66sZmlsZQ%3D%3D?line=10'>11</a>\u001b[0m         i \u001b[39m+\u001b[39m\u001b[39m=\u001b[39m \u001b[39m1\u001b[39m\n\u001b[0;32m     <a href='vscode-notebook-cell:/c%3A/Users/Usuario/Desktop/The%20Bridge/GitHub%20m%C3%ADo/Pr%C3%A1cticas%20finales%20PY101/pra_python_w02_1.ipynb#X66sZmlsZQ%3D%3D?line=11'>12</a>\u001b[0m     out\u001b[39m.\u001b[39mclose()\n\u001b[1;32m---> <a href='vscode-notebook-cell:/c%3A/Users/Usuario/Desktop/The%20Bridge/GitHub%20m%C3%ADo/Pr%C3%A1cticas%20finales%20PY101/pra_python_w02_1.ipynb#X66sZmlsZQ%3D%3D?line=13'>14</a>\u001b[0m \u001b[39mprint\u001b[39m(generar_fichero(\u001b[39m3\u001b[39;49m))\n",
      "\u001b[1;32mc:\\Users\\Usuario\\Desktop\\The Bridge\\GitHub mío\\Prácticas finales PY101\\pra_python_w02_1.ipynb Celda 48\u001b[0m in \u001b[0;36mgenerar_fichero\u001b[1;34m(N)\u001b[0m\n\u001b[0;32m      <a href='vscode-notebook-cell:/c%3A/Users/Usuario/Desktop/The%20Bridge/GitHub%20m%C3%ADo/Pr%C3%A1cticas%20finales%20PY101/pra_python_w02_1.ipynb#X66sZmlsZQ%3D%3D?line=7'>8</a>\u001b[0m \u001b[39mfor\u001b[39;00m i \u001b[39min\u001b[39;00m \u001b[39mrange\u001b[39m(N):\n\u001b[0;32m      <a href='vscode-notebook-cell:/c%3A/Users/Usuario/Desktop/The%20Bridge/GitHub%20m%C3%ADo/Pr%C3%A1cticas%20finales%20PY101/pra_python_w02_1.ipynb#X66sZmlsZQ%3D%3D?line=8'>9</a>\u001b[0m     line \u001b[39m=\u001b[39m \u001b[39m\"\u001b[39m\u001b[39mA\u001b[39m\u001b[39m\"\u001b[39m \u001b[39m*\u001b[39m i\n\u001b[1;32m---> <a href='vscode-notebook-cell:/c%3A/Users/Usuario/Desktop/The%20Bridge/GitHub%20m%C3%ADo/Pr%C3%A1cticas%20finales%20PY101/pra_python_w02_1.ipynb#X66sZmlsZQ%3D%3D?line=9'>10</a>\u001b[0m     out\u001b[39m.\u001b[39mwrite(\u001b[39m\"\u001b[39;49m\u001b[39mA\u001b[39;49m\u001b[39m\"\u001b[39;49m \u001b[39m*\u001b[39;49m i \u001b[39m%\u001b[39;49m (i, os\u001b[39m.\u001b[39;49mlinesep))\n\u001b[0;32m     <a href='vscode-notebook-cell:/c%3A/Users/Usuario/Desktop/The%20Bridge/GitHub%20m%C3%ADo/Pr%C3%A1cticas%20finales%20PY101/pra_python_w02_1.ipynb#X66sZmlsZQ%3D%3D?line=10'>11</a>\u001b[0m     i \u001b[39m+\u001b[39m\u001b[39m=\u001b[39m \u001b[39m1\u001b[39m\n\u001b[0;32m     <a href='vscode-notebook-cell:/c%3A/Users/Usuario/Desktop/The%20Bridge/GitHub%20m%C3%ADo/Pr%C3%A1cticas%20finales%20PY101/pra_python_w02_1.ipynb#X66sZmlsZQ%3D%3D?line=11'>12</a>\u001b[0m out\u001b[39m.\u001b[39mclose()\n",
      "\u001b[1;31mTypeError\u001b[0m: not all arguments converted during string formatting"
     ]
    }
   ],
   "source": [
    "# Respuesta\n",
    "import os\n",
    "# Definimos una función que recibirá un número entero por parámetro\n",
    "def generar_fichero(N):\n",
    "    if type(N) != int or int(N) < 0:\n",
    "        print(\"Please choose a valid integer\")\n",
    "    out = open(\"output.txt\", \"w\", encoding='utf-8')\n",
    "    for i in range(N):\n",
    "        line = \"A\" * i\n",
    "        out.write(\"A\" * i % (i, os.linesep))\n",
    "        i += 1\n",
    "    out.close()\n",
    "\n",
    "print(generar_fichero(3))"
   ]
  },
  {
   "cell_type": "markdown",
   "metadata": {},
   "source": [
    "### Ejercicio 5 \n",
    "\n",
    "Dada una cadena de caracteres, `s`, de longitud `n` y un número entero positivo `k`, siendo `k` un divisor de `n`, podemos dividir la cadena `s` en `n / k` sub-cadenas de la misma longitud.\n",
    "\n",
    "Escribid una función que, dada una cadena `s` y un número entero `k`, devuelva las `n/k` sub-cadenas teniendo en cuenta las siguientes consideraciones:\n",
    "\n",
    "- El orden de los caracteres en las sub-cadenas debe ser el mismo que en la cadena original.\n",
    "- Todos los caracteres de las sub-cadenas deben aparecer una única vez. Es decir, si un caracter se repite dentro de una sub-cadena, sólo hemos de mostrar la primera ocurrencia.\n",
    "\n",
    "Por ejemplo, si tenemmos\n",
    "<code>\n",
    "s = AABCCAADA\n",
    "k = 3\n",
    "</code>\n",
    "\n",
    "el resultado a mostrar por pantalla sería:\n",
    "<code>\n",
    "AB\n",
    "CA\n",
    "AD\n",
    "</code>\n",
    "\n",
    "Tenemos que la longitud de la cadena es 9 y por lo tanto, podemos formar 3 sub-cadenas:\n",
    "\n",
    "`AAB -> AB` (el caracter A se repite dos veces)\n",
    "\n",
    "`CCA -> CA` (el caracter C se repite dos veces)\n",
    "\n",
    "`ADA -> AD` (el caracter A se repite dos veces)\n"
   ]
  },
  {
   "cell_type": "code",
   "execution_count": 29,
   "metadata": {},
   "outputs": [
    {
     "name": "stdout",
     "output_type": "stream",
     "text": [
      "BA\n",
      "CA\n",
      "\n",
      "\n",
      "\n"
     ]
    }
   ],
   "source": [
    "# Respuesta\n",
    "def funcion_div(s, k):\n",
    "    divisor = int(len(s) / k)\n",
    "    divisor_1 = divisor\n",
    "    i = 0\n",
    "    while i <= k:\n",
    "        s_div = \"\".join(list(set(s[(divisor-divisor_1):divisor])))\n",
    "        print(s_div)\n",
    "        divisor += divisor\n",
    "        i += 1\n",
    "    return s_div\n",
    "\n",
    "print(funcion_div(\"AABCCAADA\", 3))"
   ]
  },
  {
   "cell_type": "markdown",
   "metadata": {},
   "source": [
    "### Ejercicio 6 (Opcional)\n",
    "\n",
    "Al final de la Edad Media, en Francia, el diplomático francés Blaise de Vigenère desarrollo un algoritmo para cifrar mensajes que nadie fue capaz de romper durante aproximadamente 250 años. El algoritmo se conoce con el nombre de [cifrado de Vigenère](https://es.wikipedia.org/wiki/Cifrado_de_Vigen%C3%A8re).\n",
    "\n",
    "El cifrado de Vigenère consiste en añadir a cada una de las letras de un texto un desplazamiento a partir de una clave secreta para conseguir una nueva letra diferente de la original. Veamos un ejemplo:\n",
    "\n",
    "Si asignamos el número 1 a la primera letra del abecedario, A, 2 a la siguiente, B, etc., imaginad que tenemos el siguiente mensaje:\n",
    "<code>\n",
    "ABC\n",
    "123\n",
    "</code>\n",
    "\n",
    "y la siguiente clave secreta:\n",
    "<code>\n",
    "DEF\n",
    "456\n",
    "</code>\n",
    "\n",
    "A cada letra del mensaje original aplicamos un desplazamiento en función de la misma posición dentro de la clave secreta. Por lo tanto, el mensaje cifrado quedaría de la siguiente forma:\n",
    "<code>\n",
    "   E       G       I\n",
    "(1 + 4) (2 + 5) (3 + 6)\n",
    "</code>\n",
    "\n",
    "Escribid una función que, dado un mensaje y una clave secreta, calcule y devuelva el mensaje cifrado.\n",
    "\n",
    "*Consideraciones.*\n",
    "\n",
    "- Utilizad como alfabeto de entrada **el alfabeto inglés en mayúsculas**.\n",
    "- El valor por defecto de la clave secreta será **DATASCI**."
   ]
  },
  {
   "cell_type": "code",
   "execution_count": 3,
   "metadata": {
    "attributes": {
     "classes": [
      "sourceCode"
     ],
     "id": ""
    }
   },
   "outputs": [
    {
     "name": "stdout",
     "output_type": "stream",
     "text": [
      "\n"
     ]
    }
   ],
   "source": [
    "def cifrado_vigenere(mensaje, clave=\"DATASCI\"):\n",
    "    \"\"\"\n",
    "    Cifra el mensaje utilizando el cifrado de Vigenère\n",
    "    \"\"\"\n",
    "    mensaje_cifrado = \"\"\n",
    "\n",
    "    # Código que hay que completar\n",
    "\n",
    "    return mensaje_cifrado\n",
    "\n",
    "# Aquí podéis añadir más ejemplos:\n",
    "print(cifrado_vigenere(\"ATACAREMOS AL AMANECER\"))"
   ]
  },
  {
   "cell_type": "markdown",
   "metadata": {},
   "source": [
    "---\n",
    "\n",
    "## Soluciones ejercicios para practicar"
   ]
  },
  {
   "cell_type": "markdown",
   "metadata": {},
   "source": [
    "### Ejercicio 1\n",
    "\n",
    "El siguiente ejercicio consiste en pasar un número en base 16 (hexadecimal, 0-9/A-F) a base 10 (decimal). Para hacerlo, debéis crear una **función** que dado un _string_ que representa un número en hexadecimal, por ejemplo, `AE3F`, devuelva el número \n",
    "natural correspondiente. En este caso, el resultado sería `44607`.\n",
    "\n",
    "**Respuesta**"
   ]
  },
  {
   "cell_type": "markdown",
   "metadata": {},
   "source": [
    "En Python disponemos de una función muy útil que nos permite pasar a un número decimal des de cualquier base (```int(x, base=y)```). Dado que el objetivo es jugar un poco con el lenguaje Python, vamos a usar dicha función sólo de forma parcial para calcular el número decimal correspondiente a cada carácter hexadecimal individualmente.\n",
    "\n",
    "La fórmula para convertir un número hexadecimal a un número decimal, tomando como ejemplo el número AE3F, es:\n",
    "\n",
    "```A * 16**3 + E * 16**2 + 3 * 16**1 + F * 16**0 = 10 * 16**3 + 14 * 16**2 + 3 * 16**1 + 15 * 16**0```"
   ]
  },
  {
   "cell_type": "code",
   "execution_count": 4,
   "metadata": {},
   "outputs": [
    {
     "name": "stdout",
     "output_type": "stream",
     "text": [
      "44607\n",
      "4095\n",
      "291\n"
     ]
    }
   ],
   "source": [
    "# Importamos el string '0123456789abcdefABCDEF' que nos puede ser muy útil para comprobar el formato \n",
    "from string import hexdigits\n",
    "\n",
    "def hex_to_dec(numero_hexadecimal):\n",
    "    # Primero, comprobamos que el número que se pasa por parámetro es hexadecimal\n",
    "    if all(c in hexdigits for c in numero_hexadecimal):\n",
    "        # Definimos la base para realizar las operaciones\n",
    "        base = 16\n",
    "        numero_decimal = 0\n",
    "        \n",
    "        # Invertimos el número hexadecimal para que nos sea más fácil trabajar con los índices\n",
    "        numero_hexadecimal = numero_hexadecimal[::-1]\n",
    "        \n",
    "        for i in range(len(numero_hexadecimal)):\n",
    "            # Para cada carácter hexadecimal aplicamos la formula c * base ** i,\n",
    "            # donde c es la representación decimal del carácter y \n",
    "            # sumamos el resultado al resultado obtenido en la iteración anterior\n",
    "            numero_decimal += int(numero_hexadecimal[i], 16) * base**i\n",
    "            \n",
    "        return numero_decimal\n",
    "    else:\n",
    "        print('El número introducido no es hexadecimal')\n",
    "\n",
    "print(hex_to_dec('AE3F'))\n",
    "print(hex_to_dec('FFF'))\n",
    "print(hex_to_dec('123'))"
   ]
  },
  {
   "cell_type": "markdown",
   "metadata": {},
   "source": [
    "### Ejercicio 2\n",
    "\n",
    "Las excepciones son errores detectados en tiempo de ejecución. Pueden y deben ser manejadas por el programador para minimizar el riesgo de que un determinado programa falle de forma no controlada. Escribid, en lenguaje Python, cómo generar y capturar la siguiente excepción: **ZeroDivisionError**.\n",
    "\n",
    "**Respuesta**"
   ]
  },
  {
   "cell_type": "markdown",
   "metadata": {},
   "source": [
    "En Pyhon podemos utilizar el bloque try ... except para capturar excepciones. Primero se intentará ejecutar el código dentro del bloque try y si hay una excepción se buscará una instrucción except que capture dicha excepción. En caso de encontrarla se ejecutará el código dentro del bloque except."
   ]
  },
  {
   "cell_type": "code",
   "execution_count": 5,
   "metadata": {},
   "outputs": [
    {
     "name": "stdout",
     "output_type": "stream",
     "text": [
      "¡Cuidado! División por cero.\n"
     ]
    }
   ],
   "source": [
    "try:\n",
    "    print( 5/0) # División por cero - genera ZeroDivisionError\n",
    "except ZeroDivisionError:\n",
    "    print(\"¡Cuidado! División por cero.\")"
   ]
  },
  {
   "cell_type": "markdown",
   "metadata": {},
   "source": [
    "### Ejercicio 3\n",
    "\n",
    "Completad el código necesario para calcular el número de vocales y de consonantes respectivamente de un texto.\n",
    "\n",
    "**Respuesta**"
   ]
  },
  {
   "cell_type": "code",
   "execution_count": 6,
   "metadata": {},
   "outputs": [
    {
     "name": "stdout",
     "output_type": "stream",
     "text": [
      "El número de vocales es de 44\n",
      "El número de consonantes es de 62\n"
     ]
    }
   ],
   "source": [
    "def contar_vocales_y_consonantes(texto):\n",
    "    # Cuenta las vocales contenidas en el string texto y también las consonantes.\n",
    "    num_vocales = 0\n",
    "    num_consonantes = 0\n",
    "    \n",
    "    # Definimos una lista con las vocales\n",
    "    vocales = ['a', 'e', 'i', 'o', 'u']\n",
    "    \n",
    "    for c in texto.lower(): # Podemos convertir el texto a minúsculas para simplificar los cálculos\n",
    "        if c in vocales:\n",
    "            num_vocales += 1\n",
    "        elif c > 'a' and c <= 'z':\n",
    "            num_consonantes += 1\n",
    "    \n",
    "    return num_vocales, num_consonantes\n",
    "\n",
    "texto = \"Orbiting Earth in the spaceship, I saw how beautiful our planet is. \\\n",
    "            People, let us preserve and increase this beauty, not destroy it!\"\n",
    "\n",
    "num_vocales, num_consonantes = contar_vocales_y_consonantes(texto)\n",
    "print (\"El número de vocales es de %d\" % num_vocales)\n",
    "print (\"El número de consonantes es de %d\" % num_consonantes)"
   ]
  },
  {
   "cell_type": "markdown",
   "metadata": {},
   "source": [
    "Si queremos considerar también las vocales acentuadas o caracteres especiales, podemos modificar el código anterior para tenerlo en cuenta:"
   ]
  },
  {
   "cell_type": "code",
   "execution_count": 7,
   "metadata": {},
   "outputs": [
    {
     "name": "stdout",
     "output_type": "stream",
     "text": [
      "El número de vocales es de 44\n",
      "El número de consonantes es de 62\n",
      "El número de vocales es de 5\n",
      "El número de consonantes es de 1\n"
     ]
    }
   ],
   "source": [
    "def contar_vocales_y_consonantes(texto):\n",
    "    # Cuenta las vocales contenidas en el string texto y también las consonantes.\n",
    "    num_vocales = 0\n",
    "    num_consonantes = 0\n",
    "    \n",
    "    # Convertimos el texto a Unicode\n",
    "    # En este caso sabemos seguro que la codificación de caracteres es UTF-8,  \n",
    "    # pero si nuestro código se puediera ejecutar fuera del Notebook podríamos \n",
    "    # incluir la codificación como otro parámetro de la función\n",
    "    texto = texto.decode('utf-8')\n",
    "    \n",
    "    # Definimos una lista con las vocales en unicode\n",
    "    vocales = [u'a', u'e', u'i', u'o', u'u', u'à', u'á', u'è', u'é', u'í', u'ï', u'ò', u'ó', u'ú', u'ü']\n",
    "    \n",
    "    for c in texto.lower(): # Podemos convertir el texto a minúsculas para simplificar los cálculos\n",
    "        if c in vocales:\n",
    "            num_vocales += 1\n",
    "        elif c > 'a' and c <= 'z' or c == u'ç' or c == u'ñ':\n",
    "            num_consonantes += 1\n",
    "    \n",
    "    return num_vocales, num_consonantes\n",
    "\n",
    "texto = \"Orbiting Earth in the spaceship, I saw how beautiful our planet is. \\\n",
    "            People, let us preserve and increase this beauty, not destroy it!\"\n",
    "\n",
    "num_vocales, num_consonantes = contar_vocales_y_consonantes(texto)\n",
    "print (\"El número de vocales es de %d\" % num_vocales)\n",
    "print (\"El número de consonantes es de %d\" % num_consonantes)\n",
    "\n",
    "texto = \"áéióúY\"\n",
    "num_vocales, num_consonantes = contar_vocales_y_consonantes(texto)\n",
    "print( \"El número de vocales es de %d\" % num_vocales)\n",
    "print (\"El número de consonantes es de %d\" % num_consonantes)"
   ]
  }
 ],
 "metadata": {
  "kernelspec": {
   "display_name": "Python 3.9.13 ('rampup_py39')",
   "language": "python",
   "name": "python3"
  },
  "language_info": {
   "codemirror_mode": {
    "name": "ipython",
    "version": 3
   },
   "file_extension": ".py",
   "mimetype": "text/x-python",
   "name": "python",
   "nbconvert_exporter": "python",
   "pygments_lexer": "ipython3",
   "version": "3.9.13"
  },
  "vscode": {
   "interpreter": {
    "hash": "841b6b730caa98d10b9b1cb94a042b11b0b3943d20be54364f0ad12c19b8dd2d"
   }
  }
 },
 "nbformat": 4,
 "nbformat_minor": 4
}
