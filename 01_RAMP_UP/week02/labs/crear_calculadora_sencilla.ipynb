{
  "cells": [
    {
      "cell_type": "markdown",
      "metadata": {
        "id": "MJFXpot9_MLX"
      },
      "source": [
        "***\n",
        "## Vamos con el laboratorio 3\n",
        "\n",
        "Crear una calculadora sencilla sin definir funciones - parte 1\n",
        "\n",
        "***\n",
        "### lab 3 - Crear una calculadora **sencilla** sin definir funciones - parte 1\n",
        "\n",
        "Cree una calculadora sencilla que acepte un primer número, una operación y un segundo número.\n",
        "\n",
        "Este es un resultado de ejemplo, en el que un usuario ha escrito *4*, *** y *5* en los cuadros de entrada:\n",
        "\n",
        "\n",
        "```output\n",
        "Simple calculator!\n",
        "First number? 4\n",
        "Operation? *\n",
        "Second number? 5\n",
        "product of 4 * 5 equals 20\n",
        "```\n",
        "\n",
        "El programa debe aceptar un símbolo, como el símbolo de asterisco (*), para realizar una multiplicación y generar un producto. Asegúrese de implementar lógica para estos resultados:\n",
        "\n",
        "- Suma (+)\n",
        "- Resta (-)\n",
        "- Multiplicación (*)\n",
        "- Cociente (/)\n",
        "- Exponente (//)\n",
        "- Módulo (%)\n",
        "\n",
        "Si el usuario no escribe un valor numérico, muestre este mensaje:\n",
        "\n",
        "\n",
        "```output\n",
        "Please input a number.\n",
        "```\n",
        "\n",
        "Si el usuario escribe una operación que no se reconoce, muestre este mensaje:\n",
        "\n",
        "\n",
        "```output\n",
        "Operation not recognized.\n",
        "```\n",
        "\n",
        "Tanto si tiene dificultades y necesita echar un vistazo a la solución como si finaliza el ejercicio correctamente, continúe para ver una solución a este desafío."
      ]
    },
    {
      "cell_type": "markdown",
      "metadata": {
        "id": "y3c76u0D_Qho"
      },
      "source": [
        "#### PSEUDOCODIGO\n",
        "\n",
        "Declaramos dos valores de entrada\n",
        "```\n",
        "a (input)\n",
        "b (input)\n",
        "```\n",
        "\n",
        "Declarar el tipo de operación a realizar\n",
        "```\n",
        "operacion (input)\n",
        "```\n",
        "\n",
        "Creamos una variable con una lista de operadores\n",
        "```\n",
        "operadores = [\"+\", \"-\", \"*\", \"/\", \"//\", \"%\" ]\n",
        "```\n",
        "\n",
        "Declaramos la condición de evaluación\n",
        "SI el operador no se encuentra en la lista de Operadores\n",
        "`` \n",
        "print (Operación no reconocida)\n",
        "```\n",
        "\n",
        "ELSE\n",
        "\n",
        "SI el operacion es \"+\"\n",
        "ELSE RESULTADO a+b\n",
        "\n",
        "SI EL operacion es \"-\"\n",
        "ELSE RESULTADO a-b\n",
        "\n",
        "\n",
        "... así para el resto de operadores\n",
        "\n",
        "print(resultado)\n",
        "```"
      ]
    },
    {
      "cell_type": "code",
      "execution_count": 2,
      "metadata": {
        "id": "tIRIoLmu_O2E"
      },
      "outputs": [
        {
          "name": "stdout",
          "output_type": "stream",
          "text": [
            "25.0\n"
          ]
        }
      ],
      "source": [
        "# Defnimos la función \n",
        "def simple_calculator():\n",
        "\n",
        "# Validamos las entradas numéricas, y volvemos a pedir las entradas hasta que sean números válidos\n",
        "    a = input(\"Seleccione su primer entrada\")\n",
        "    while a.isnumeric() == False:\n",
        "        a = input(\"Por favor seleccione un número válido\")\n",
        "    b = input(\"Seleccione su segunda entrada\")\n",
        "    while b.isnumeric() == False:   \n",
        "        b = input(\"Por favor seleccione un número válido\")\n",
        "\n",
        "# Una vez que las entraddas son válidas, comenzamos con las operaciones de la calculadora\n",
        "    if a.isnumeric() == True:\n",
        "        if b.isnumeric() == True:\n",
        "            operadores = [\"+\", \"-\", \"*\", \"/\", \"//\", \"%\"]\n",
        "            a = float(a)\n",
        "            b = float(b)\n",
        "            operacion = input(\"Elija su operación\")\n",
        "            resultado = 0\n",
        "\n",
        "# Validamos la entrada de la operación, y volvemos a pedir la entrada hasta que sea una operación válida\n",
        "            while operacion not in operadores:\n",
        "                print(\"Operación no reconocida\")\n",
        "                operacion = input(\"Seleccione una operación válida\")\n",
        "\n",
        "# Definimos la operación y los resultados \n",
        "            if operacion == \"+\":\n",
        "                resultado = a + b\n",
        "            elif operacion == \"*\":\n",
        "                resultado = a * b\n",
        "            elif operacion == \"-\":\n",
        "                resultado = a - b\n",
        "            elif operacion == \"/\":\n",
        "                resultado = a / b\n",
        "\n",
        "# Imprimimos el resultado\n",
        "            print(resultado)\n",
        "\n",
        "simple_calculator()"
      ]
    },
    {
      "cell_type": "code",
      "execution_count": null,
      "metadata": {
        "id": "nSo-pS8uedZ5"
      },
      "outputs": [],
      "source": []
    }
  ],
  "metadata": {
    "colab": {
      "name": "Lab03 - Calculadora sencilla",
      "provenance": []
    },
    "kernelspec": {
      "display_name": "Python 3.7.4 64-bit",
      "language": "python",
      "name": "python3"
    },
    "language_info": {
      "codemirror_mode": {
        "name": "ipython",
        "version": 3
      },
      "file_extension": ".py",
      "mimetype": "text/x-python",
      "name": "python",
      "nbconvert_exporter": "python",
      "pygments_lexer": "ipython3",
      "version": "3.7.4"
    },
    "vscode": {
      "interpreter": {
        "hash": "98f313b375bd142157bd85247f9cae0a692e725b9cc4cd8be55ca840b47a019b"
      }
    }
  },
  "nbformat": 4,
  "nbformat_minor": 0
}
